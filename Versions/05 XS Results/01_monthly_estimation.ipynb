{
 "cells": [
  {
   "cell_type": "markdown",
   "metadata": {},
   "source": [
    "# Monthly Cross-Section: Estimation"
   ]
  },
  {
   "cell_type": "markdown",
   "metadata": {},
   "source": [
    "## Imports"
   ]
  },
  {
   "cell_type": "code",
   "execution_count": 1,
   "metadata": {},
   "outputs": [],
   "source": [
    "%load_ext autoreload\n",
    "%autoreload 2"
   ]
  },
  {
   "cell_type": "code",
   "execution_count": 2,
   "metadata": {},
   "outputs": [],
   "source": [
    "import numpy as np\n",
    "import scipy as sp\n",
    "import pandas as pd\n",
    "\n",
    "import warnings\n",
    "import tqdm\n",
    "\n",
    "import pandas_datareader.data as web\n",
    "import datetime as dt\n",
    "\n",
    "import statsmodels.api as sm\n",
    "import linearmodels as lm\n",
    "\n",
    "import matplotlib.pyplot as plt\n",
    "import seaborn as sns\n",
    "\n",
    "import mypack.data as data\n",
    "import mypack.calc as calc\n",
    "import mypack.plot as plot\n",
    "import mypack.clas as clas"
   ]
  },
  {
   "cell_type": "code",
   "execution_count": 3,
   "metadata": {},
   "outputs": [],
   "source": [
    "pd.set_option('display.float_format', lambda x: '%.4f' % x) #sets decimals to be displayed"
   ]
  },
  {
   "cell_type": "code",
   "execution_count": 4,
   "metadata": {},
   "outputs": [],
   "source": [
    "sns.set()\n",
    "sns.set(rc={'figure.figsize': (17, 6)})"
   ]
  },
  {
   "cell_type": "code",
   "execution_count": 5,
   "metadata": {},
   "outputs": [],
   "source": [
    "%matplotlib inline"
   ]
  },
  {
   "cell_type": "markdown",
   "metadata": {},
   "source": [
    "## Data"
   ]
  },
  {
   "cell_type": "markdown",
   "metadata": {},
   "source": [
    "Data is imported from [Kenneth French's data library](http://mba.tuck.dartmouth.edu/pages/faculty/ken.french/data_library.html) and [FRED](https://fred.stlouisfed.org/series/). Currently, this workbook uses 49 industry portfolios and the FF3 factors. Additionally, NBER recession indicators complement the data."
   ]
  },
  {
   "cell_type": "code",
   "execution_count": 6,
   "metadata": {},
   "outputs": [],
   "source": [
    "#sample_start = dt.datetime(1962,1,1)\n",
    "sample_start = dt.datetime(1900,1,1)\n",
    "sample_end = dt.datetime(2019,9,30)"
   ]
  },
  {
   "cell_type": "markdown",
   "metadata": {},
   "source": [
    "### Factor data"
   ]
  },
  {
   "cell_type": "code",
   "execution_count": 7,
   "metadata": {},
   "outputs": [],
   "source": [
    "#factors_daily = data.download_factor_data('D')/100\n",
    "#factors_monthly = data.download_factor_data('M')/100\n",
    "\n",
    "#factors_daily = factors_daily.loc[(factors_daily.index >= sample_start) & (factors_daily.index <= sample_end)]\n",
    "#factors_monthly = factors_monthly.loc[(factors_monthly.index >= sample_start) & (factors_monthly.index <= sample_end)]"
   ]
  },
  {
   "cell_type": "markdown",
   "metadata": {},
   "source": [
    "### Industry data"
   ]
  },
  {
   "cell_type": "code",
   "execution_count": 8,
   "metadata": {},
   "outputs": [],
   "source": [
    "industries_daily = data.download_industry_data('D', excessreturns=True)/100\n",
    "industries_monthly = data.download_industry_data('M', excessreturns=True)/100"
   ]
  },
  {
   "cell_type": "code",
   "execution_count": 9,
   "metadata": {},
   "outputs": [],
   "source": [
    "industries_daily = industries_daily.loc[(industries_daily.index >= sample_start) & (industries_daily.index <= sample_end)]\n",
    "industries_monthly = industries_monthly.loc[(industries_monthly.index >= sample_start) & (industries_monthly.index <= sample_end)]"
   ]
  },
  {
   "cell_type": "markdown",
   "metadata": {},
   "source": [
    "### Recession data"
   ]
  },
  {
   "cell_type": "code",
   "execution_count": 10,
   "metadata": {},
   "outputs": [],
   "source": [
    "#usrec_daily = data.download_recessions_data('D')\n",
    "#usrec_monthly = data.download_recessions_data('M')"
   ]
  },
  {
   "cell_type": "markdown",
   "metadata": {},
   "source": [
    "## Estimation\n",
    "### Setup"
   ]
  },
  {
   "cell_type": "code",
   "execution_count": 11,
   "metadata": {},
   "outputs": [],
   "source": [
    "df_xs_estimates = pd.DataFrame(industries_monthly.stack().rename(('data','return')))"
   ]
  },
  {
   "cell_type": "code",
   "execution_count": 12,
   "metadata": {},
   "outputs": [],
   "source": [
    "#df_xs_estimates = pd.read_pickle('df_xs_estimates_monthly.pkl')"
   ]
  },
  {
   "cell_type": "markdown",
   "metadata": {},
   "source": [
    "### Define outputs"
   ]
  },
  {
   "cell_type": "code",
   "execution_count": 13,
   "metadata": {},
   "outputs": [],
   "source": [
    "def get_moment_vector(y):\n",
    "    '''\n",
    "    This function defines a vector that contains the first four moments of y\n",
    "    '''\n",
    "    moment_vector = \\\n",
    "        pd.Series([y.mean(), y.std(), y.var(), y.skew(),y.kurtosis()], index=['mean','std','var','skew','exkurt'])\n",
    "    return moment_vector"
   ]
  },
  {
   "cell_type": "code",
   "execution_count": 14,
   "metadata": {},
   "outputs": [],
   "source": [
    "def get_hmm_model_output(hmm_model): # TO DO: Make suitable for more states\n",
    "    '''\n",
    "    This function defines a vector with estimates from a hidden markov model object\n",
    "    '''\n",
    "    model_output = \\\n",
    "        pd.Series([hmm_model.mle_retvals['converged'],algo,hmm_model.nobs,hmm_model.aic,hmm_model.bic,hmm_model.llf],index=['convergence','algorithm','T','aic','bic','likelihood'])\\\n",
    "            .append(pd.Series(hmm_model.params.values,index=['p00','p10','mu_0','mu_1','sigma2_0','sigma2_1']))\\\n",
    "            .append(pd.Series(hmm_model.bse.values,index=['p00_se','p10_se','mu_0_se','mu_1_se','sigma2_0_se','sigma2_1_se']))\\\n",
    "            .append(pd.Series(hmm_model.cov_params().loc['const[0]','const[1]'],index=['mu_cov']))\\\n",
    "            .append(pd.Series(hmm_model.cov_params().loc['sigma2[0]','sigma2[1]'],index=['sigma_cov']))\\\n",
    "            .append(pd.Series(hmm_model.cov_params().loc['p[0->0]','p[1->0]'],index=['prob_cov']))\\\n",
    "            .append(pd.Series(hmm_model.smoothed_marginal_probabilities.iloc[-1,:].values,index=['smooth_prob_0','smooth_prob_1']))\\\n",
    "            .append(pd.Series(hmm_model.filtered_marginal_probabilities.iloc[-1,:].values,index=['filt_prob_0','filt_prob_1']))\\\n",
    "            .append(pd.Series(hmm_model.smoothed_marginal_probabilities.mean().values,index=['mean_smooth_prob_0','mean_smooth_prob_1']))\\\n",
    "            .append(pd.Series(hmm_model.filtered_marginal_probabilities.mean().values,index=['mean_filt_prob_0','mean_filt_prob_1']))\\\n",
    "            .append(pd.Series(abs(hmm_model.smoothed_marginal_probabilities.iloc[-1,:]-hmm_model.smoothed_marginal_probabilities.iloc[-2,:]).mean(),index=['smooth_prob_innov']))\\\n",
    "            .append(pd.Series(abs(hmm_model.filtered_marginal_probabilities.iloc[-1,:]-hmm_model.filtered_marginal_probabilities.iloc[-2,:]).mean(),index=['filt_prob_innov']))\n",
    "    return model_output"
   ]
  },
  {
   "cell_type": "code",
   "execution_count": 15,
   "metadata": {},
   "outputs": [],
   "source": [
    "def get_state_probabilities(hmm_model):\n",
    "    '''\n",
    "    This is to extract the in-sample state probabilities\n",
    "    '''\n",
    "    state_probs = \\\n",
    "        pd.DataFrame(hmm_model.smoothed_marginal_probabilities.values, index=hmm_model.smoothed_marginal_probabilities.index, columns=['smooth_is_0','smooth_is_1'])\\\n",
    "            .join(pd.DataFrame(hmm_model.filtered_marginal_probabilities.values, index=hmm_model.smoothed_marginal_probabilities.index, columns=['filt_is_0','filt_is_1']))\n",
    "    return state_probs"
   ]
  },
  {
   "cell_type": "markdown",
   "metadata": {},
   "source": [
    "### Full Sample\n",
    "#### Names"
   ]
  },
  {
   "cell_type": "code",
   "execution_count": 16,
   "metadata": {},
   "outputs": [],
   "source": [
    "hmm_name = 'HMM_full'\n",
    "moment_name = 'moment_full'"
   ]
  },
  {
   "cell_type": "code",
   "execution_count": 17,
   "metadata": {},
   "outputs": [],
   "source": [
    "algos = ['powell','ncg','bfgs','cg','newton']"
   ]
  },
  {
   "cell_type": "markdown",
   "metadata": {},
   "source": [
    "#### Run"
   ]
  },
  {
   "cell_type": "code",
   "execution_count": 18,
   "metadata": {},
   "outputs": [
    {
     "name": "stderr",
     "output_type": "stream",
     "text": [
      "49it [00:59,  1.19s/it]\n"
     ]
    },
    {
     "name": "stdout",
     "output_type": "stream",
     "text": [
      "Wall time: 59.4 s\n"
     ]
    }
   ],
   "source": [
    "%%time\n",
    "count = 0\n",
    "full_sample_estimates = pd.DataFrame([])\n",
    "\n",
    "for name,data in tqdm.tqdm(industries_monthly.items()):\n",
    "    \n",
    "    # calculate sample moments\n",
    "    moment_vector = get_moment_vector(data)\n",
    "    \n",
    "    # treat outliers\n",
    "    y = pd.Series(data.values,index=data.index).copy()\n",
    "    m,s = moment_vector[['mean','std']]\n",
    "    y[y<m-2.325*s] = m-2.325*s + 0.1*(y[y<m-2.325*s]-(m-2.325*s))\n",
    "    y[y>m+2.325*s] = m+2.325*s + 0.1*(y[y>m-2.325*s]-(m+2.325*s))\n",
    "    \n",
    "    # set initial guesses for parameters\n",
    "    init = [0.9,0.1] + [m] + [m] + [(2*s)**2] + [(0.5*s)**2]\n",
    "    \n",
    "    # estimate model\n",
    "    for algo in algos:\n",
    "        with warnings.catch_warnings():\n",
    "            warnings.filterwarnings(action=\"ignore\")\n",
    "            hmm_model = sm.tsa.MarkovRegression(y, k_regimes=2, exog=None, switching_trend=True, switching_exog=False, switching_variance=True, missing='drop')\\\n",
    "                    .fit(cov_type='robust', start_params=init, method=algo, disp=False)\n",
    "        if (not any(hmm_model.params.isna())):\n",
    "            break\n",
    "            \n",
    "    # outputs\n",
    "    model_output = get_hmm_model_output(hmm_model)\n",
    "    state_probs = get_state_probabilities(hmm_model)\n",
    "    \n",
    "    # safe estimates\n",
    "    if count == 0 & False:\n",
    "        df_xs_estimates = df_xs_estimates\\\n",
    "            .join(pd.DataFrame(np.nan, columns=pd.MultiIndex.from_product([[moment_name], moment_vector.index]), index=df_xs_estimates.index))\\\n",
    "            .join(pd.DataFrame(np.nan, columns=pd.MultiIndex.from_product([[hmm_name], model_output.index]), index=df_xs_estimates.index))\\\n",
    "            .join(pd.DataFrame(np.nan, columns=pd.MultiIndex.from_product([[hmm_name], state_probs.columns]), index=df_xs_estimates.index))\n",
    "        \n",
    "    full_sample_estimates = full_sample_estimates.join(model_output.rename(name),how='outer')\n",
    "    \n",
    "    selected_rows = \\\n",
    "        (df_xs_estimates.index.get_level_values('Industry')==name)\\\n",
    "        &np.array([x in state_probs.index for x in df_xs_estimates.index.get_level_values('Date')])\n",
    "    df_xs_estimates.loc[selected_rows,(moment_name,moment_vector.index)] = moment_vector.values\n",
    "    df_xs_estimates.loc[selected_rows,(hmm_name,model_output.index)] = model_output.values\n",
    "    df_xs_estimates.loc[selected_rows,(hmm_name,state_probs.columns)] = state_probs.values\n",
    "    \n",
    "    count += 1\n",
    "    \n",
    "#df_xs_estimates.to_pickle('df_xs_estimates_monthly.pkl')"
   ]
  },
  {
   "cell_type": "markdown",
   "metadata": {},
   "source": [
    "### Expanding Window\n",
    "#### Names"
   ]
  },
  {
   "cell_type": "code",
   "execution_count": 19,
   "metadata": {},
   "outputs": [],
   "source": [
    "win_yrs = 20 #length of first window"
   ]
  },
  {
   "cell_type": "code",
   "execution_count": 20,
   "metadata": {},
   "outputs": [],
   "source": [
    "hmm_name = 'HMM_expand'\n",
    "moment_name = 'moment_expand'"
   ]
  },
  {
   "cell_type": "code",
   "execution_count": 21,
   "metadata": {},
   "outputs": [],
   "source": [
    "algos = ['powell','ncg','bfgs','cg','newton']"
   ]
  },
  {
   "cell_type": "markdown",
   "metadata": {},
   "source": [
    "#### Run"
   ]
  },
  {
   "cell_type": "code",
   "execution_count": null,
   "metadata": {},
   "outputs": [],
   "source": [
    "df_xs_estimates = pd.read_pickle('df_xs_estimates_monthly.pkl')"
   ]
  },
  {
   "cell_type": "code",
   "execution_count": 22,
   "metadata": {},
   "outputs": [
    {
     "name": "stderr",
     "output_type": "stream",
     "text": [
      "100%|████████████████████████████████████████████████████████████████████████████████| 878/878 [04:46<00:00,  2.72it/s]\n"
     ]
    },
    {
     "name": "stdout",
     "output_type": "stream",
     "text": [
      "Agric : 1 / 49 , 547 corrections,  0 switches\n"
     ]
    },
    {
     "name": "stderr",
     "output_type": "stream",
     "text": [
      "100%|████████████████████████████████████████████████████████████████████████████████| 878/878 [04:50<00:00,  2.37it/s]\n"
     ]
    },
    {
     "name": "stdout",
     "output_type": "stream",
     "text": [
      "Food  : 2 / 49 , 0 corrections,  0 switches\n"
     ]
    },
    {
     "name": "stderr",
     "output_type": "stream",
     "text": [
      "100%|████████████████████████████████████████████████████████████████████████████████| 434/434 [02:21<00:00,  2.79it/s]\n"
     ]
    },
    {
     "name": "stdout",
     "output_type": "stream",
     "text": [
      "Soda  : 3 / 49 , 77 corrections,  0 switches\n"
     ]
    },
    {
     "name": "stderr",
     "output_type": "stream",
     "text": [
      "100%|████████████████████████████████████████████████████████████████████████████████| 878/878 [05:53<00:00,  2.36it/s]\n"
     ]
    },
    {
     "name": "stdout",
     "output_type": "stream",
     "text": [
      "Beer  : 4 / 49 , 269 corrections,  0 switches\n"
     ]
    },
    {
     "name": "stderr",
     "output_type": "stream",
     "text": [
      "100%|████████████████████████████████████████████████████████████████████████████████| 878/878 [05:27<00:00,  2.19it/s]\n"
     ]
    },
    {
     "name": "stdout",
     "output_type": "stream",
     "text": [
      "Smoke : 5 / 49 , 5 corrections,  0 switches\n"
     ]
    },
    {
     "name": "stderr",
     "output_type": "stream",
     "text": [
      "100%|████████████████████████████████████████████████████████████████████████████████| 878/878 [05:56<00:00,  2.28it/s]\n"
     ]
    },
    {
     "name": "stdout",
     "output_type": "stream",
     "text": [
      "Toys  : 6 / 49 , 458 corrections,  0 switches\n"
     ]
    },
    {
     "name": "stderr",
     "output_type": "stream",
     "text": [
      "100%|████████████████████████████████████████████████████████████████████████████████| 878/878 [05:24<00:00,  2.27it/s]\n"
     ]
    },
    {
     "name": "stdout",
     "output_type": "stream",
     "text": [
      "Fun   : 7 / 49 , 27 corrections,  0 switches\n"
     ]
    },
    {
     "name": "stderr",
     "output_type": "stream",
     "text": [
      "100%|████████████████████████████████████████████████████████████████████████████████| 878/878 [05:19<00:00,  2.29it/s]\n"
     ]
    },
    {
     "name": "stdout",
     "output_type": "stream",
     "text": [
      "Books : 8 / 49 , 0 corrections,  0 switches\n"
     ]
    },
    {
     "name": "stderr",
     "output_type": "stream",
     "text": [
      "100%|████████████████████████████████████████████████████████████████████████████████| 878/878 [05:34<00:00,  2.22it/s]\n"
     ]
    },
    {
     "name": "stdout",
     "output_type": "stream",
     "text": [
      "Hshld : 9 / 49 , 65 corrections,  0 switches\n"
     ]
    },
    {
     "name": "stderr",
     "output_type": "stream",
     "text": [
      "100%|████████████████████████████████████████████████████████████████████████████████| 878/878 [05:50<00:00,  2.33it/s]\n"
     ]
    },
    {
     "name": "stdout",
     "output_type": "stream",
     "text": [
      "Clths : 10 / 49 , 0 corrections,  0 switches\n"
     ]
    },
    {
     "name": "stderr",
     "output_type": "stream",
     "text": [
      "100%|████████████████████████████████████████████████████████████████████████████████| 362/362 [02:32<00:00,  2.90it/s]\n"
     ]
    },
    {
     "name": "stdout",
     "output_type": "stream",
     "text": [
      "Hlth  : 11 / 49 , 251 corrections,  0 switches\n"
     ]
    },
    {
     "name": "stderr",
     "output_type": "stream",
     "text": [
      "100%|████████████████████████████████████████████████████████████████████████████████| 878/878 [05:24<00:00,  2.29it/s]\n"
     ]
    },
    {
     "name": "stdout",
     "output_type": "stream",
     "text": [
      "MedEq : 12 / 49 , 604 corrections,  0 switches\n"
     ]
    },
    {
     "name": "stderr",
     "output_type": "stream",
     "text": [
      "100%|████████████████████████████████████████████████████████████████████████████████| 878/878 [05:10<00:00,  2.32it/s]\n"
     ]
    },
    {
     "name": "stdout",
     "output_type": "stream",
     "text": [
      "Drugs : 13 / 49 , 0 corrections,  0 switches\n"
     ]
    },
    {
     "name": "stderr",
     "output_type": "stream",
     "text": [
      "100%|████████████████████████████████████████████████████████████████████████████████| 878/878 [05:19<00:00,  2.12it/s]\n"
     ]
    },
    {
     "name": "stdout",
     "output_type": "stream",
     "text": [
      "Chems : 14 / 49 , 674 corrections,  0 switches\n"
     ]
    },
    {
     "name": "stderr",
     "output_type": "stream",
     "text": [
      "100%|████████████████████████████████████████████████████████████████████████████████| 830/830 [06:00<00:00,  2.24it/s]\n"
     ]
    },
    {
     "name": "stdout",
     "output_type": "stream",
     "text": [
      "Rubbr : 15 / 49 , 430 corrections,  0 switches\n"
     ]
    },
    {
     "name": "stderr",
     "output_type": "stream",
     "text": [
      "100%|████████████████████████████████████████████████████████████████████████████████| 878/878 [05:37<00:00,  2.36it/s]\n"
     ]
    },
    {
     "name": "stdout",
     "output_type": "stream",
     "text": [
      "Txtls : 16 / 49 , 497 corrections,  0 switches\n"
     ]
    },
    {
     "name": "stderr",
     "output_type": "stream",
     "text": [
      "100%|████████████████████████████████████████████████████████████████████████████████| 878/878 [05:50<00:00,  2.27it/s]\n"
     ]
    },
    {
     "name": "stdout",
     "output_type": "stream",
     "text": [
      "BldMt : 17 / 49 , 486 corrections,  0 switches\n"
     ]
    },
    {
     "name": "stderr",
     "output_type": "stream",
     "text": [
      "100%|████████████████████████████████████████████████████████████████████████████████| 878/878 [07:10<00:00,  2.27it/s]\n"
     ]
    },
    {
     "name": "stdout",
     "output_type": "stream",
     "text": [
      "Cnstr : 18 / 49 , 769 corrections,  0 switches\n"
     ]
    },
    {
     "name": "stderr",
     "output_type": "stream",
     "text": [
      "100%|████████████████████████████████████████████████████████████████████████████████| 878/878 [06:01<00:00,  1.90it/s]\n"
     ]
    },
    {
     "name": "stdout",
     "output_type": "stream",
     "text": [
      "Steel : 19 / 49 , 813 corrections,  0 switches\n"
     ]
    },
    {
     "name": "stderr",
     "output_type": "stream",
     "text": [
      "100%|████████████████████████████████████████████████████████████████████████████████| 434/434 [02:39<00:00,  2.67it/s]\n"
     ]
    },
    {
     "name": "stdout",
     "output_type": "stream",
     "text": [
      "FabPr : 20 / 49 , 1 corrections,  0 switches\n"
     ]
    },
    {
     "name": "stderr",
     "output_type": "stream",
     "text": [
      "100%|████████████████████████████████████████████████████████████████████████████████| 878/878 [05:48<00:00,  2.27it/s]\n"
     ]
    },
    {
     "name": "stdout",
     "output_type": "stream",
     "text": [
      "Mach  : 21 / 49 , 566 corrections,  0 switches\n"
     ]
    },
    {
     "name": "stderr",
     "output_type": "stream",
     "text": [
      "100%|████████████████████████████████████████████████████████████████████████████████| 878/878 [05:32<00:00,  2.25it/s]\n"
     ]
    },
    {
     "name": "stdout",
     "output_type": "stream",
     "text": [
      "ElcEq : 22 / 49 , 788 corrections,  0 switches\n"
     ]
    },
    {
     "name": "stderr",
     "output_type": "stream",
     "text": [
      "100%|████████████████████████████████████████████████████████████████████████████████| 878/878 [06:01<00:00,  2.26it/s]\n"
     ]
    },
    {
     "name": "stdout",
     "output_type": "stream",
     "text": [
      "Autos : 23 / 49 , 488 corrections,  0 switches\n"
     ]
    },
    {
     "name": "stderr",
     "output_type": "stream",
     "text": [
      "100%|████████████████████████████████████████████████████████████████████████████████| 878/878 [08:44<00:00,  1.67it/s]\n"
     ]
    },
    {
     "name": "stdout",
     "output_type": "stream",
     "text": [
      "Aero  : 24 / 49 , 792 corrections,  0 switches\n"
     ]
    },
    {
     "name": "stderr",
     "output_type": "stream",
     "text": [
      "100%|████████████████████████████████████████████████████████████████████████████████| 878/878 [08:13<00:00,  1.60it/s]\n"
     ]
    },
    {
     "name": "stdout",
     "output_type": "stream",
     "text": [
      "Ships : 25 / 49 , 456 corrections,  0 switches\n"
     ]
    },
    {
     "name": "stderr",
     "output_type": "stream",
     "text": [
      "100%|████████████████████████████████████████████████████████████████████████████████| 434/434 [02:49<00:00,  2.55it/s]\n"
     ]
    },
    {
     "name": "stdout",
     "output_type": "stream",
     "text": [
      "Guns  : 26 / 49 , 191 corrections,  0 switches\n"
     ]
    },
    {
     "name": "stderr",
     "output_type": "stream",
     "text": [
      "100%|████████████████████████████████████████████████████████████████████████████████| 434/434 [02:31<00:00,  2.70it/s]\n"
     ]
    },
    {
     "name": "stdout",
     "output_type": "stream",
     "text": [
      "Gold  : 27 / 49 , 0 corrections,  0 switches\n"
     ]
    },
    {
     "name": "stderr",
     "output_type": "stream",
     "text": [
      "100%|████████████████████████████████████████████████████████████████████████████████| 878/878 [05:22<00:00,  2.36it/s]\n"
     ]
    },
    {
     "name": "stdout",
     "output_type": "stream",
     "text": [
      "Mines : 28 / 49 , 300 corrections,  0 switches\n"
     ]
    },
    {
     "name": "stderr",
     "output_type": "stream",
     "text": [
      "100%|████████████████████████████████████████████████████████████████████████████████| 878/878 [08:26<00:00,  1.26it/s]\n"
     ]
    },
    {
     "name": "stdout",
     "output_type": "stream",
     "text": [
      "Coal  : 29 / 49 , 258 corrections,  0 switches\n"
     ]
    },
    {
     "name": "stderr",
     "output_type": "stream",
     "text": [
      "100%|████████████████████████████████████████████████████████████████████████████████| 878/878 [07:43<00:00,  1.61it/s]\n"
     ]
    },
    {
     "name": "stdout",
     "output_type": "stream",
     "text": [
      "Oil   : 30 / 49 , 221 corrections,  0 switches\n"
     ]
    },
    {
     "name": "stderr",
     "output_type": "stream",
     "text": [
      "100%|████████████████████████████████████████████████████████████████████████████████| 878/878 [08:11<00:00,  1.64it/s]\n"
     ]
    },
    {
     "name": "stdout",
     "output_type": "stream",
     "text": [
      "Util  : 31 / 49 , 848 corrections,  0 switches\n"
     ]
    },
    {
     "name": "stderr",
     "output_type": "stream",
     "text": [
      "100%|████████████████████████████████████████████████████████████████████████████████| 878/878 [06:56<00:00,  2.01it/s]\n"
     ]
    },
    {
     "name": "stdout",
     "output_type": "stream",
     "text": [
      "Telcm : 32 / 49 , 0 corrections,  0 switches\n"
     ]
    },
    {
     "name": "stderr",
     "output_type": "stream",
     "text": [
      "100%|████████████████████████████████████████████████████████████████████████████████| 866/866 [06:04<00:00,  2.42it/s]\n"
     ]
    },
    {
     "name": "stdout",
     "output_type": "stream",
     "text": [
      "PerSv : 33 / 49 , 0 corrections,  0 switches\n"
     ]
    },
    {
     "name": "stderr",
     "output_type": "stream",
     "text": [
      "100%|████████████████████████████████████████████████████████████████████████████████| 878/878 [05:01<00:00,  2.58it/s]\n"
     ]
    },
    {
     "name": "stdout",
     "output_type": "stream",
     "text": [
      "BusSv : 34 / 49 , 0 corrections,  0 switches\n"
     ]
    },
    {
     "name": "stderr",
     "output_type": "stream",
     "text": [
      "100%|████████████████████████████████████████████████████████████████████████████████| 878/878 [05:06<00:00,  2.42it/s]\n"
     ]
    },
    {
     "name": "stdout",
     "output_type": "stream",
     "text": [
      "Hardw : 35 / 49 , 117 corrections,  0 switches\n"
     ]
    },
    {
     "name": "stderr",
     "output_type": "stream",
     "text": [
      "100%|████████████████████████████████████████████████████████████████████████████████| 410/410 [02:33<00:00,  3.25it/s]\n"
     ]
    },
    {
     "name": "stdout",
     "output_type": "stream",
     "text": [
      "Softw : 36 / 49 , 178 corrections,  0 switches\n"
     ]
    },
    {
     "name": "stderr",
     "output_type": "stream",
     "text": [
      "100%|████████████████████████████████████████████████████████████████████████████████| 878/878 [05:24<00:00,  2.30it/s]\n"
     ]
    },
    {
     "name": "stdout",
     "output_type": "stream",
     "text": [
      "Chips : 37 / 49 , 721 corrections,  0 switches\n"
     ]
    },
    {
     "name": "stderr",
     "output_type": "stream",
     "text": [
      "100%|████████████████████████████████████████████████████████████████████████████████| 878/878 [05:04<00:00,  2.59it/s]\n"
     ]
    },
    {
     "name": "stdout",
     "output_type": "stream",
     "text": [
      "LabEq : 38 / 49 , 88 corrections,  0 switches\n"
     ]
    },
    {
     "name": "stderr",
     "output_type": "stream",
     "text": [
      "100%|████████████████████████████████████████████████████████████████████████████████| 842/842 [07:15<00:00,  2.23it/s]\n"
     ]
    },
    {
     "name": "stdout",
     "output_type": "stream",
     "text": [
      "Paper : 39 / 49 , 722 corrections,  0 switches\n"
     ]
    },
    {
     "name": "stderr",
     "output_type": "stream",
     "text": [
      "100%|████████████████████████████████████████████████████████████████████████████████| 878/878 [05:17<00:00,  2.12it/s]\n"
     ]
    },
    {
     "name": "stdout",
     "output_type": "stream",
     "text": [
      "Boxes : 40 / 49 , 378 corrections,  0 switches\n"
     ]
    },
    {
     "name": "stderr",
     "output_type": "stream",
     "text": [
      "100%|████████████████████████████████████████████████████████████████████████████████| 878/878 [04:59<00:00,  2.32it/s]\n"
     ]
    },
    {
     "name": "stdout",
     "output_type": "stream",
     "text": [
      "Trans : 41 / 49 , 316 corrections,  0 switches\n"
     ]
    },
    {
     "name": "stderr",
     "output_type": "stream",
     "text": [
      "100%|████████████████████████████████████████████████████████████████████████████████| 878/878 [05:40<00:00,  2.46it/s]\n"
     ]
    },
    {
     "name": "stdout",
     "output_type": "stream",
     "text": [
      "Whlsl : 42 / 49 , 164 corrections,  0 switches\n"
     ]
    },
    {
     "name": "stderr",
     "output_type": "stream",
     "text": [
      "100%|████████████████████████████████████████████████████████████████████████████████| 878/878 [05:13<00:00,  2.56it/s]\n"
     ]
    },
    {
     "name": "stdout",
     "output_type": "stream",
     "text": [
      "Rtail : 43 / 49 , 0 corrections,  0 switches\n"
     ]
    },
    {
     "name": "stderr",
     "output_type": "stream",
     "text": [
      "100%|████████████████████████████████████████████████████████████████████████████████| 878/878 [05:08<00:00,  2.32it/s]\n"
     ]
    },
    {
     "name": "stdout",
     "output_type": "stream",
     "text": [
      "Meals : 44 / 49 , 0 corrections,  0 switches\n"
     ]
    },
    {
     "name": "stderr",
     "output_type": "stream",
     "text": [
      "100%|████████████████████████████████████████████████████████████████████████████████| 878/878 [05:02<00:00,  2.58it/s]\n"
     ]
    },
    {
     "name": "stdout",
     "output_type": "stream",
     "text": [
      "Banks : 45 / 49 , 0 corrections,  0 switches\n"
     ]
    },
    {
     "name": "stderr",
     "output_type": "stream",
     "text": [
      "100%|████████████████████████████████████████████████████████████████████████████████| 878/878 [04:53<00:00,  2.53it/s]\n"
     ]
    },
    {
     "name": "stdout",
     "output_type": "stream",
     "text": [
      "Insur : 46 / 49 , 325 corrections,  0 switches\n"
     ]
    },
    {
     "name": "stderr",
     "output_type": "stream",
     "text": [
      "100%|████████████████████████████████████████████████████████████████████████████████| 878/878 [05:08<00:00,  2.55it/s]\n"
     ]
    },
    {
     "name": "stdout",
     "output_type": "stream",
     "text": [
      "RlEst : 47 / 49 , 0 corrections,  0 switches\n"
     ]
    },
    {
     "name": "stderr",
     "output_type": "stream",
     "text": [
      "100%|████████████████████████████████████████████████████████████████████████████████| 878/878 [05:01<00:00,  2.55it/s]\n"
     ]
    },
    {
     "name": "stdout",
     "output_type": "stream",
     "text": [
      "Fin   : 48 / 49 , 0 corrections,  0 switches\n"
     ]
    },
    {
     "name": "stderr",
     "output_type": "stream",
     "text": [
      "100%|████████████████████████████████████████████████████████████████████████████████| 878/878 [05:11<00:00,  2.11it/s]\n"
     ]
    },
    {
     "name": "stdout",
     "output_type": "stream",
     "text": [
      "Other : 49 / 49 , 79 corrections,  0 switches\n",
      "Wall time: 4h 27min 45s\n"
     ]
    }
   ],
   "source": [
    "%%time\n",
    "start = 0\n",
    "count = start\n",
    "\n",
    "for name,data in industries_monthly.iloc[:,start:].items():\n",
    "    \n",
    "    # find dates to optimise\n",
    "    data = data[data.notna()]\n",
    "    opt_dates = data.index[data.index>data.index[0].replace(year=data.index[0].year+win_yrs)]\n",
    "    \n",
    "    correction_count = 0\n",
    "    switch_count = 0\n",
    "    for iDate in tqdm.tqdm(opt_dates):\n",
    "        \n",
    "        # select data\n",
    "        select_window = data.index[data.index<=iDate]\n",
    "        y = data.loc[select_window].copy()\n",
    "        \n",
    "        # calculate sample moments\n",
    "        moment_vector = get_moment_vector(y)\n",
    "        \n",
    "        # treat outliers\n",
    "        y = calc.shrink_outliers(y, alpha=1.645, lamb=1)\n",
    "        \n",
    "        # set initial guesses for parameters\n",
    "        m,s = y.mean(),y.std()\n",
    "        win_init = [0.9,0.1] + [m] + [m] + [(2*s)**2] + [(0.5*s)**2]\n",
    "        \n",
    "        if iDate == opt_dates[0]:\n",
    "            init = win_init\n",
    "        else:\n",
    "            if  all(hmm_model.params.notna()):\n",
    "                init = hmm_model.params.values\n",
    "            else:\n",
    "                init = win_init\n",
    "            \n",
    "            # move initial transition probabilities to reasonable levels\n",
    "            if (min(init[0],1-init[0])<0.01) | (min(init[1],1-init[1])<0.01):\n",
    "                init = 0.9*init + 0.1*np.asarray(win_init)\n",
    "                correction_count += 1\n",
    "        \n",
    "        # estimate model\n",
    "        for algo in algos:\n",
    "            with warnings.catch_warnings():\n",
    "                warnings.filterwarnings(action=\"ignore\")\n",
    "                hmm_model = sm.tsa.MarkovRegression(y, k_regimes=2, exog=None, switching_trend=True, switching_exog=False, switching_variance=True, missing='drop')\\\n",
    "                    .fit(cov_type='robust', start_params=init, method=algo, disp=False)\n",
    "            if (not any(hmm_model.params.isna())):\n",
    "                break\n",
    "                \n",
    "        if hmm_model.params[4] < hmm_model.params[5]:\n",
    "            switch_count += 1\n",
    "        \n",
    "        # outputs\n",
    "        model_output = get_hmm_model_output(hmm_model)\n",
    "        \n",
    "        # safe estimates\n",
    "        if (count == 0) & (iDate == opt_dates[0]) & True:\n",
    "            df_xs_estimates = df_xs_estimates\\\n",
    "                .join(pd.DataFrame(np.nan, columns=pd.MultiIndex.from_product([[moment_name], moment_vector.index]), index=df_xs_estimates.index))\\\n",
    "                .join(pd.DataFrame(np.nan, columns=pd.MultiIndex.from_product([[hmm_name], model_output.index]), index=df_xs_estimates.index))\n",
    "\n",
    "        df_xs_estimates.loc[(iDate,name),(moment_name,moment_vector.index)] = moment_vector.values\n",
    "        df_xs_estimates.loc[(iDate,name),(hmm_name,model_output.index)] = model_output.values\n",
    "        \n",
    "    count += 1\n",
    "    print(name, ':', list(industries_monthly.columns).index(name)+1, '/', len(industries_monthly.columns), ',', correction_count, 'corrections, ', switch_count,'switches')\n",
    "    \n",
    "    #df_xs_estimates.to_pickle('df_xs_estimates_monthly.pkl')"
   ]
  },
  {
   "cell_type": "markdown",
   "metadata": {},
   "source": [
    "### Rolling Window\n",
    "#### Names"
   ]
  },
  {
   "cell_type": "code",
   "execution_count": 23,
   "metadata": {},
   "outputs": [],
   "source": [
    "win_yrs = 40"
   ]
  },
  {
   "cell_type": "code",
   "execution_count": 24,
   "metadata": {},
   "outputs": [],
   "source": [
    "hmm_name = 'HMM_roll_'+str(win_yrs)\n",
    "moment_name = 'moment_roll_'+str(win_yrs)"
   ]
  },
  {
   "cell_type": "code",
   "execution_count": 25,
   "metadata": {},
   "outputs": [],
   "source": [
    "algos = ['powell','ncg','bfgs','cg','newton']"
   ]
  },
  {
   "cell_type": "markdown",
   "metadata": {},
   "source": [
    "#### Run"
   ]
  },
  {
   "cell_type": "code",
   "execution_count": 162,
   "metadata": {},
   "outputs": [],
   "source": [
    "df_xs_estimates = pd.read_pickle('df_xs_estimates_monthly.pkl')"
   ]
  },
  {
   "cell_type": "code",
   "execution_count": 26,
   "metadata": {},
   "outputs": [],
   "source": [
    "start = 0\n",
    "#end = -1"
   ]
  },
  {
   "cell_type": "code",
   "execution_count": 27,
   "metadata": {},
   "outputs": [
    {
     "name": "stderr",
     "output_type": "stream",
     "text": [
      "100%|████████████████████████████████████████████████████████████████████████████████| 638/638 [03:48<00:00,  2.81it/s]\n"
     ]
    },
    {
     "name": "stdout",
     "output_type": "stream",
     "text": [
      "Agric : 1 / 49 , 80 corrections,  0 switches\n"
     ]
    },
    {
     "name": "stderr",
     "output_type": "stream",
     "text": [
      "100%|████████████████████████████████████████████████████████████████████████████████| 638/638 [06:19<00:00,  1.73it/s]\n"
     ]
    },
    {
     "name": "stdout",
     "output_type": "stream",
     "text": [
      "Food  : 2 / 49 , 20 corrections,  0 switches\n"
     ]
    },
    {
     "name": "stderr",
     "output_type": "stream",
     "text": [
      "100%|████████████████████████████████████████████████████████████████████████████████| 194/194 [02:02<00:00,  1.18it/s]\n"
     ]
    },
    {
     "name": "stdout",
     "output_type": "stream",
     "text": [
      "Soda  : 3 / 49 , 0 corrections,  0 switches\n"
     ]
    },
    {
     "name": "stderr",
     "output_type": "stream",
     "text": [
      "100%|████████████████████████████████████████████████████████████████████████████████| 638/638 [07:06<00:00,  1.57it/s]\n"
     ]
    },
    {
     "name": "stdout",
     "output_type": "stream",
     "text": [
      "Beer  : 4 / 49 , 158 corrections,  0 switches\n"
     ]
    },
    {
     "name": "stderr",
     "output_type": "stream",
     "text": [
      "100%|████████████████████████████████████████████████████████████████████████████████| 638/638 [05:49<00:00,  1.98it/s]\n"
     ]
    },
    {
     "name": "stdout",
     "output_type": "stream",
     "text": [
      "Smoke : 5 / 49 , 84 corrections,  0 switches\n"
     ]
    },
    {
     "name": "stderr",
     "output_type": "stream",
     "text": [
      "100%|████████████████████████████████████████████████████████████████████████████████| 638/638 [06:30<00:00,  2.07it/s]\n"
     ]
    },
    {
     "name": "stdout",
     "output_type": "stream",
     "text": [
      "Toys  : 6 / 49 , 327 corrections,  0 switches\n"
     ]
    },
    {
     "name": "stderr",
     "output_type": "stream",
     "text": [
      "100%|████████████████████████████████████████████████████████████████████████████████| 638/638 [05:36<00:00,  1.97it/s]\n"
     ]
    },
    {
     "name": "stdout",
     "output_type": "stream",
     "text": [
      "Fun   : 7 / 49 , 122 corrections,  0 switches\n"
     ]
    },
    {
     "name": "stderr",
     "output_type": "stream",
     "text": [
      "100%|████████████████████████████████████████████████████████████████████████████████| 638/638 [05:40<00:00,  2.01it/s]\n"
     ]
    },
    {
     "name": "stdout",
     "output_type": "stream",
     "text": [
      "Books : 8 / 49 , 198 corrections,  0 switches\n"
     ]
    },
    {
     "name": "stderr",
     "output_type": "stream",
     "text": [
      "100%|████████████████████████████████████████████████████████████████████████████████| 638/638 [05:34<00:00,  1.93it/s]\n"
     ]
    },
    {
     "name": "stdout",
     "output_type": "stream",
     "text": [
      "Hshld : 9 / 49 , 70 corrections,  0 switches\n"
     ]
    },
    {
     "name": "stderr",
     "output_type": "stream",
     "text": [
      "100%|████████████████████████████████████████████████████████████████████████████████| 638/638 [05:36<00:00,  1.96it/s]\n"
     ]
    },
    {
     "name": "stdout",
     "output_type": "stream",
     "text": [
      "Clths : 10 / 49 , 106 corrections,  0 switches\n"
     ]
    },
    {
     "name": "stderr",
     "output_type": "stream",
     "text": [
      "100%|████████████████████████████████████████████████████████████████████████████████| 122/122 [01:15<00:00,  1.82it/s]\n"
     ]
    },
    {
     "name": "stdout",
     "output_type": "stream",
     "text": [
      "Hlth  : 11 / 49 , 80 corrections,  0 switches\n"
     ]
    },
    {
     "name": "stderr",
     "output_type": "stream",
     "text": [
      "100%|████████████████████████████████████████████████████████████████████████████████| 638/638 [05:36<00:00,  1.86it/s]\n"
     ]
    },
    {
     "name": "stdout",
     "output_type": "stream",
     "text": [
      "MedEq : 12 / 49 , 85 corrections,  0 switches\n"
     ]
    },
    {
     "name": "stderr",
     "output_type": "stream",
     "text": [
      "100%|████████████████████████████████████████████████████████████████████████████████| 638/638 [05:27<00:00,  2.11it/s]\n"
     ]
    },
    {
     "name": "stdout",
     "output_type": "stream",
     "text": [
      "Drugs : 13 / 49 , 21 corrections,  0 switches\n"
     ]
    },
    {
     "name": "stderr",
     "output_type": "stream",
     "text": [
      "100%|████████████████████████████████████████████████████████████████████████████████| 638/638 [06:04<00:00,  1.87it/s]\n"
     ]
    },
    {
     "name": "stdout",
     "output_type": "stream",
     "text": [
      "Chems : 14 / 49 , 350 corrections,  0 switches\n"
     ]
    },
    {
     "name": "stderr",
     "output_type": "stream",
     "text": [
      "100%|████████████████████████████████████████████████████████████████████████████████| 590/590 [05:34<00:00,  1.96it/s]\n"
     ]
    },
    {
     "name": "stdout",
     "output_type": "stream",
     "text": [
      "Rubbr : 15 / 49 , 105 corrections,  0 switches\n"
     ]
    },
    {
     "name": "stderr",
     "output_type": "stream",
     "text": [
      "100%|████████████████████████████████████████████████████████████████████████████████| 638/638 [05:49<00:00,  2.02it/s]\n"
     ]
    },
    {
     "name": "stdout",
     "output_type": "stream",
     "text": [
      "Txtls : 16 / 49 , 200 corrections,  0 switches\n"
     ]
    },
    {
     "name": "stderr",
     "output_type": "stream",
     "text": [
      "100%|████████████████████████████████████████████████████████████████████████████████| 638/638 [06:05<00:00,  1.96it/s]\n"
     ]
    },
    {
     "name": "stdout",
     "output_type": "stream",
     "text": [
      "BldMt : 17 / 49 , 183 corrections,  0 switches\n"
     ]
    },
    {
     "name": "stderr",
     "output_type": "stream",
     "text": [
      "100%|████████████████████████████████████████████████████████████████████████████████| 638/638 [06:03<00:00,  2.05it/s]\n"
     ]
    },
    {
     "name": "stdout",
     "output_type": "stream",
     "text": [
      "Cnstr : 18 / 49 , 281 corrections,  0 switches\n"
     ]
    },
    {
     "name": "stderr",
     "output_type": "stream",
     "text": [
      "100%|████████████████████████████████████████████████████████████████████████████████| 638/638 [07:23<00:00,  2.02it/s]\n"
     ]
    },
    {
     "name": "stdout",
     "output_type": "stream",
     "text": [
      "Steel : 19 / 49 , 453 corrections,  0 switches\n"
     ]
    },
    {
     "name": "stderr",
     "output_type": "stream",
     "text": [
      "100%|████████████████████████████████████████████████████████████████████████████████| 194/194 [01:42<00:00,  1.83it/s]\n"
     ]
    },
    {
     "name": "stdout",
     "output_type": "stream",
     "text": [
      "FabPr : 20 / 49 , 0 corrections,  0 switches\n"
     ]
    },
    {
     "name": "stderr",
     "output_type": "stream",
     "text": [
      "100%|████████████████████████████████████████████████████████████████████████████████| 638/638 [05:52<00:00,  1.95it/s]\n"
     ]
    },
    {
     "name": "stdout",
     "output_type": "stream",
     "text": [
      "Mach  : 21 / 49 , 142 corrections,  333 switches\n"
     ]
    },
    {
     "name": "stderr",
     "output_type": "stream",
     "text": [
      "100%|████████████████████████████████████████████████████████████████████████████████| 638/638 [05:59<00:00,  1.99it/s]\n"
     ]
    },
    {
     "name": "stdout",
     "output_type": "stream",
     "text": [
      "ElcEq : 22 / 49 , 318 corrections,  0 switches\n"
     ]
    },
    {
     "name": "stderr",
     "output_type": "stream",
     "text": [
      "100%|████████████████████████████████████████████████████████████████████████████████| 638/638 [05:56<00:00,  1.99it/s]\n"
     ]
    },
    {
     "name": "stdout",
     "output_type": "stream",
     "text": [
      "Autos : 23 / 49 , 152 corrections,  272 switches\n"
     ]
    },
    {
     "name": "stderr",
     "output_type": "stream",
     "text": [
      "100%|████████████████████████████████████████████████████████████████████████████████| 638/638 [06:43<00:00,  1.80it/s]\n"
     ]
    },
    {
     "name": "stdout",
     "output_type": "stream",
     "text": [
      "Aero  : 24 / 49 , 323 corrections,  0 switches\n"
     ]
    },
    {
     "name": "stderr",
     "output_type": "stream",
     "text": [
      "100%|████████████████████████████████████████████████████████████████████████████████| 638/638 [06:11<00:00,  1.91it/s]\n"
     ]
    },
    {
     "name": "stdout",
     "output_type": "stream",
     "text": [
      "Ships : 25 / 49 , 162 corrections,  0 switches\n"
     ]
    },
    {
     "name": "stderr",
     "output_type": "stream",
     "text": [
      "100%|████████████████████████████████████████████████████████████████████████████████| 194/194 [01:40<00:00,  2.10it/s]\n"
     ]
    },
    {
     "name": "stdout",
     "output_type": "stream",
     "text": [
      "Guns  : 26 / 49 , 24 corrections,  0 switches\n"
     ]
    },
    {
     "name": "stderr",
     "output_type": "stream",
     "text": [
      "100%|████████████████████████████████████████████████████████████████████████████████| 194/194 [01:35<00:00,  2.11it/s]\n"
     ]
    },
    {
     "name": "stdout",
     "output_type": "stream",
     "text": [
      "Gold  : 27 / 49 , 0 corrections,  0 switches\n"
     ]
    },
    {
     "name": "stderr",
     "output_type": "stream",
     "text": [
      "100%|████████████████████████████████████████████████████████████████████████████████| 638/638 [06:08<00:00,  1.95it/s]\n"
     ]
    },
    {
     "name": "stdout",
     "output_type": "stream",
     "text": [
      "Mines : 28 / 49 , 273 corrections,  0 switches\n"
     ]
    },
    {
     "name": "stderr",
     "output_type": "stream",
     "text": [
      "100%|████████████████████████████████████████████████████████████████████████████████| 638/638 [06:56<00:00,  1.42it/s]\n"
     ]
    },
    {
     "name": "stdout",
     "output_type": "stream",
     "text": [
      "Coal  : 29 / 49 , 504 corrections,  0 switches\n"
     ]
    },
    {
     "name": "stderr",
     "output_type": "stream",
     "text": [
      "100%|████████████████████████████████████████████████████████████████████████████████| 638/638 [05:24<00:00,  1.73it/s]\n"
     ]
    },
    {
     "name": "stdout",
     "output_type": "stream",
     "text": [
      "Oil   : 30 / 49 , 82 corrections,  0 switches\n"
     ]
    },
    {
     "name": "stderr",
     "output_type": "stream",
     "text": [
      "100%|████████████████████████████████████████████████████████████████████████████████| 638/638 [06:11<00:00,  2.07it/s]\n"
     ]
    },
    {
     "name": "stdout",
     "output_type": "stream",
     "text": [
      "Util  : 31 / 49 , 70 corrections,  0 switches\n"
     ]
    },
    {
     "name": "stderr",
     "output_type": "stream",
     "text": [
      "100%|████████████████████████████████████████████████████████████████████████████████| 638/638 [05:54<00:00,  1.91it/s]\n"
     ]
    },
    {
     "name": "stdout",
     "output_type": "stream",
     "text": [
      "Telcm : 32 / 49 , 56 corrections,  0 switches\n"
     ]
    },
    {
     "name": "stderr",
     "output_type": "stream",
     "text": [
      "100%|████████████████████████████████████████████████████████████████████████████████| 626/626 [05:25<00:00,  1.59it/s]\n"
     ]
    },
    {
     "name": "stdout",
     "output_type": "stream",
     "text": [
      "PerSv : 33 / 49 , 4 corrections,  0 switches\n"
     ]
    },
    {
     "name": "stderr",
     "output_type": "stream",
     "text": [
      "100%|████████████████████████████████████████████████████████████████████████████████| 638/638 [06:05<00:00,  2.08it/s]\n"
     ]
    },
    {
     "name": "stdout",
     "output_type": "stream",
     "text": [
      "BusSv : 34 / 49 , 365 corrections,  0 switches\n"
     ]
    },
    {
     "name": "stderr",
     "output_type": "stream",
     "text": [
      "100%|████████████████████████████████████████████████████████████████████████████████| 638/638 [05:42<00:00,  1.77it/s]\n"
     ]
    },
    {
     "name": "stdout",
     "output_type": "stream",
     "text": [
      "Hardw : 35 / 49 , 160 corrections,  0 switches\n"
     ]
    },
    {
     "name": "stderr",
     "output_type": "stream",
     "text": [
      "100%|████████████████████████████████████████████████████████████████████████████████| 170/170 [01:40<00:00,  1.65it/s]\n"
     ]
    },
    {
     "name": "stdout",
     "output_type": "stream",
     "text": [
      "Softw : 36 / 49 , 0 corrections,  0 switches\n"
     ]
    },
    {
     "name": "stderr",
     "output_type": "stream",
     "text": [
      "100%|████████████████████████████████████████████████████████████████████████████████| 638/638 [06:10<00:00,  1.74it/s]\n"
     ]
    },
    {
     "name": "stdout",
     "output_type": "stream",
     "text": [
      "Chips : 37 / 49 , 97 corrections,  260 switches\n"
     ]
    },
    {
     "name": "stderr",
     "output_type": "stream",
     "text": [
      "100%|████████████████████████████████████████████████████████████████████████████████| 638/638 [05:51<00:00,  1.97it/s]\n"
     ]
    },
    {
     "name": "stdout",
     "output_type": "stream",
     "text": [
      "LabEq : 38 / 49 , 172 corrections,  0 switches\n"
     ]
    },
    {
     "name": "stderr",
     "output_type": "stream",
     "text": [
      "100%|████████████████████████████████████████████████████████████████████████████████| 602/602 [06:52<00:00,  1.90it/s]\n"
     ]
    },
    {
     "name": "stdout",
     "output_type": "stream",
     "text": [
      "Paper : 39 / 49 , 360 corrections,  0 switches\n"
     ]
    },
    {
     "name": "stderr",
     "output_type": "stream",
     "text": [
      "100%|████████████████████████████████████████████████████████████████████████████████| 638/638 [05:36<00:00,  1.94it/s]\n"
     ]
    },
    {
     "name": "stdout",
     "output_type": "stream",
     "text": [
      "Boxes : 40 / 49 , 112 corrections,  0 switches\n"
     ]
    },
    {
     "name": "stderr",
     "output_type": "stream",
     "text": [
      "100%|████████████████████████████████████████████████████████████████████████████████| 638/638 [05:49<00:00,  2.05it/s]\n"
     ]
    },
    {
     "name": "stdout",
     "output_type": "stream",
     "text": [
      "Trans : 41 / 49 , 236 corrections,  0 switches\n"
     ]
    },
    {
     "name": "stderr",
     "output_type": "stream",
     "text": [
      "100%|████████████████████████████████████████████████████████████████████████████████| 638/638 [05:27<00:00,  1.81it/s]\n"
     ]
    },
    {
     "name": "stdout",
     "output_type": "stream",
     "text": [
      "Whlsl : 42 / 49 , 0 corrections,  0 switches\n"
     ]
    },
    {
     "name": "stderr",
     "output_type": "stream",
     "text": [
      "100%|████████████████████████████████████████████████████████████████████████████████| 638/638 [05:53<00:00,  1.99it/s]\n"
     ]
    },
    {
     "name": "stdout",
     "output_type": "stream",
     "text": [
      "Rtail : 43 / 49 , 132 corrections,  0 switches\n"
     ]
    },
    {
     "name": "stderr",
     "output_type": "stream",
     "text": [
      "100%|████████████████████████████████████████████████████████████████████████████████| 638/638 [05:32<00:00,  1.82it/s]\n"
     ]
    },
    {
     "name": "stdout",
     "output_type": "stream",
     "text": [
      "Meals : 44 / 49 , 0 corrections,  0 switches\n"
     ]
    },
    {
     "name": "stderr",
     "output_type": "stream",
     "text": [
      "100%|████████████████████████████████████████████████████████████████████████████████| 638/638 [05:27<00:00,  2.05it/s]\n"
     ]
    },
    {
     "name": "stdout",
     "output_type": "stream",
     "text": [
      "Banks : 45 / 49 , 0 corrections,  0 switches\n"
     ]
    },
    {
     "name": "stderr",
     "output_type": "stream",
     "text": [
      "100%|████████████████████████████████████████████████████████████████████████████████| 638/638 [05:41<00:00,  2.02it/s]\n"
     ]
    },
    {
     "name": "stdout",
     "output_type": "stream",
     "text": [
      "Insur : 46 / 49 , 51 corrections,  0 switches\n"
     ]
    },
    {
     "name": "stderr",
     "output_type": "stream",
     "text": [
      "100%|████████████████████████████████████████████████████████████████████████████████| 638/638 [05:22<00:00,  1.76it/s]\n"
     ]
    },
    {
     "name": "stdout",
     "output_type": "stream",
     "text": [
      "RlEst : 47 / 49 , 0 corrections,  0 switches\n"
     ]
    },
    {
     "name": "stderr",
     "output_type": "stream",
     "text": [
      "100%|████████████████████████████████████████████████████████████████████████████████| 638/638 [05:43<00:00,  1.89it/s]\n"
     ]
    },
    {
     "name": "stdout",
     "output_type": "stream",
     "text": [
      "Fin   : 48 / 49 , 0 corrections,  0 switches\n"
     ]
    },
    {
     "name": "stderr",
     "output_type": "stream",
     "text": [
      "100%|████████████████████████████████████████████████████████████████████████████████| 638/638 [05:55<00:00,  1.41it/s]\n"
     ]
    },
    {
     "name": "stdout",
     "output_type": "stream",
     "text": [
      "Other : 49 / 49 , 171 corrections,  0 switches\n",
      "Wall time: 4h 24min 1s\n"
     ]
    }
   ],
   "source": [
    "%%time\n",
    "count = start\n",
    "\n",
    "for name,data in industries_monthly.iloc[:,start:].items():\n",
    "    \n",
    "    # find dates to optimise\n",
    "    data = data[data.notna()]\n",
    "    opt_dates = data.index[data.index>data.index[0].replace(year=data.index[0].year+win_yrs)]\n",
    "    \n",
    "    correction_count = 0\n",
    "    switch_count = 0\n",
    "    for iDate in tqdm.tqdm(opt_dates):\n",
    "        \n",
    "        # select data\n",
    "        select_window = data.index[(data.index>[iDate+dt.timedelta(1) if (iDate.day==29)&(iDate.month==2) else iDate][0].replace(year=iDate.year-win_yrs)) & (data.index<=iDate)]\n",
    "        y = data.loc[select_window].copy()\n",
    "        \n",
    "        # calculate sample moments\n",
    "        moment_vector = get_moment_vector(y)\n",
    "        \n",
    "        # treat outliers\n",
    "        y = calc.shrink_outliers(y, alpha=1.645, lamb=1)\n",
    "        \n",
    "        #m,s = moment_vector[['mean','std']]\n",
    "        #y.loc[y<m-1.96*s] = m-1.96*s + 0.1*(y[y<m-1.96*s]-(m-1.96*s))\n",
    "        #y.loc[y>m+1.96*s] = m+1.96*s + 0.1*(y[y>m-1.96*s]-(m+1.96*s))\n",
    "        \n",
    "        # set initial guesses for parameters\n",
    "        m,s = y.mean(),y.std()\n",
    "        win_init = [0.9,0.1] + [m] + [m] + [(2*s)**2] + [(0.5*s)**2]\n",
    "        \n",
    "        if iDate == opt_dates[0]:\n",
    "            init = win_init\n",
    "        else:\n",
    "            if  all(hmm_model.params.notna()):\n",
    "                init = hmm_model.params.values\n",
    "            else:\n",
    "                init = win_init\n",
    "            \n",
    "            # move initial transition probabilities to reasonable levels\n",
    "            if (min(init[0],1-init[0])<0.01) | (min(init[1],1-init[1])<0.01):\n",
    "                init = 0.9*init + 0.1*np.asarray(win_init)\n",
    "                correction_count += 1\n",
    "        \n",
    "        # estimate model\n",
    "        for algo in algos:\n",
    "            with warnings.catch_warnings():\n",
    "                warnings.filterwarnings(action=\"ignore\")\n",
    "                hmm_model = sm.tsa.MarkovRegression(y, k_regimes=2, exog=None, switching_trend=True, switching_exog=False, switching_variance=True, missing='drop')\\\n",
    "                    .fit(cov_type='robust', start_params=init, method=algo, disp=False)\n",
    "            if all(hmm_model.params.notna()):\n",
    "                break\n",
    "                \n",
    "        if hmm_model.params[4] < hmm_model.params[5]:\n",
    "            switch_count += 1\n",
    "        \n",
    "        # outputs\n",
    "        model_output = get_hmm_model_output(hmm_model)\n",
    "        \n",
    "        # safe estimates\n",
    "        if (count == 0) & (iDate == opt_dates[0]) & True:\n",
    "            df_xs_estimates = df_xs_estimates\\\n",
    "                .join(pd.DataFrame(np.nan, columns=pd.MultiIndex.from_product([[moment_name], moment_vector.index]), index=df_xs_estimates.index))\\\n",
    "                .join(pd.DataFrame(np.nan, columns=pd.MultiIndex.from_product([[hmm_name], model_output.index]), index=df_xs_estimates.index))\n",
    "\n",
    "        df_xs_estimates.loc[(iDate,name),(moment_name,moment_vector.index)] = moment_vector.values\n",
    "        df_xs_estimates.loc[(iDate,name),(hmm_name,model_output.index)] = model_output.values\n",
    "        \n",
    "    count += 1\n",
    "    print(name, ':', list(industries_monthly.columns).index(name)+1, '/', len(industries_monthly.columns), ',', correction_count, 'corrections, ', switch_count,'switches')\n",
    "    \n",
    "    #df_xs_estimates.to_pickle('df_xs_estimates_monthly.pkl')"
   ]
  },
  {
   "cell_type": "code",
   "execution_count": 32,
   "metadata": {},
   "outputs": [],
   "source": [
    "df_xs_estimates.to_pickle('df_xs_estimates_monthly.pkl')"
   ]
  },
  {
   "cell_type": "markdown",
   "metadata": {},
   "source": [
    "### Diagnostics"
   ]
  },
  {
   "cell_type": "code",
   "execution_count": 143,
   "metadata": {},
   "outputs": [],
   "source": [
    "hmm_name = 'HMM_expand'"
   ]
  },
  {
   "cell_type": "code",
   "execution_count": 165,
   "metadata": {},
   "outputs": [
    {
     "name": "stdout",
     "output_type": "stream",
     "text": [
      "4 Smoke\n"
     ]
    }
   ],
   "source": [
    "iI+=1\n",
    "industry=industries_monthly.columns[iI]\n",
    "print(iI,industry)"
   ]
  },
  {
   "cell_type": "code",
   "execution_count": 166,
   "metadata": {},
   "outputs": [
    {
     "data": {
      "image/png": "[encoded data removed]",
      "text/plain": [
       "<Figure size 1224x864 with 4 Axes>"
      ]
     },
     "metadata": {
      "needs_background": "light"
     },
     "output_type": "display_data"
    }
   ],
   "source": [
    "fix,axes = plt.subplots(4,1,figsize=[17,12])\n",
    "\n",
    "ax = axes[0]\n",
    "plot.add_recession_bars(ax, startdate=df_xs_estimates.index.get_level_values('Date')[df_xs_estimates.index.get_level_values('Industry')==industry][240])\n",
    "d = df_xs_estimates.loc[df_xs_estimates.index.get_level_values('Industry')==industry,(hmm_name,model_output.index)][[(hmm_name,'mu_0'),(hmm_name,'mu_1')]]\n",
    "d.index = d.index.get_level_values('Date')\n",
    "ax.plot(d)\n",
    "\n",
    "ax = axes[1]\n",
    "plot.add_recession_bars(ax, startdate=df_xs_estimates.index.get_level_values('Date')[df_xs_estimates.index.get_level_values('Industry')==industry][240])\n",
    "d = df_xs_estimates.loc[df_xs_estimates.index.get_level_values('Industry')==industry,(hmm_name,model_output.index)][[(hmm_name,'sigma2_0'),(hmm_name,'sigma2_1')]]\n",
    "d.index = d.index.get_level_values('Date')\n",
    "ax.plot(d)\n",
    "\n",
    "ax = axes[2]\n",
    "plot.add_recession_bars(ax, startdate=df_xs_estimates.index.get_level_values('Date')[df_xs_estimates.index.get_level_values('Industry')==industry][240])\n",
    "d = df_xs_estimates.loc[df_xs_estimates.index.get_level_values('Industry')==industry,(hmm_name,model_output.index)][[(hmm_name,'p00'),(hmm_name,'p10')]]\n",
    "d.index = d.index.get_level_values('Date')\n",
    "ax.plot(d)\n",
    "\n",
    "ax = axes[3]\n",
    "plot.add_recession_bars(ax, startdate=df_xs_estimates.index.get_level_values('Date')[df_xs_estimates.index.get_level_values('Industry')==industry][240])\n",
    "s = df_xs_estimates.loc[df_xs_estimates.index.get_level_values('Industry')==industry,(hmm_name,model_output.index)][[(hmm_name,'filt_prob_1')]]\n",
    "s.index = s.index.get_level_values('Date')\n",
    "ax.plot(s)\n",
    "\n",
    "plt.show()"
   ]
  },
  {
   "cell_type": "code",
   "execution_count": null,
   "metadata": {},
   "outputs": [],
   "source": []
  }
 ],
 "metadata": {
  "kernelspec": {
   "display_name": "Python 3",
   "language": "python",
   "name": "python3"
  },
  "language_info": {
   "codemirror_mode": {
    "name": "ipython",
    "version": 3
   },
   "file_extension": ".py",
   "mimetype": "text/x-python",
   "name": "python",
   "nbconvert_exporter": "python",
   "pygments_lexer": "ipython3",
   "version": "3.7.0"
  }
 },
 "nbformat": 4,
 "nbformat_minor": 2
}
