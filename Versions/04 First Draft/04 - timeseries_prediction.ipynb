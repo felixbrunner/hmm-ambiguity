{
 "cells": [
  {
   "cell_type": "markdown",
   "metadata": {},
   "source": [
    "# Timeseries Predictions"
   ]
  },
  {
   "cell_type": "markdown",
   "metadata": {},
   "source": [
    "## Imports"
   ]
  },
  {
   "cell_type": "code",
   "execution_count": 1,
   "metadata": {},
   "outputs": [],
   "source": [
    "%load_ext autoreload\n",
    "%autoreload 2"
   ]
  },
  {
   "cell_type": "code",
   "execution_count": 2,
   "metadata": {},
   "outputs": [],
   "source": [
    "import numpy as np\n",
    "import scipy as sp\n",
    "import pandas as pd\n",
    "import pandas_datareader.data as web\n",
    "import datetime as dt\n",
    "\n",
    "import warnings\n",
    "import tqdm\n",
    "\n",
    "import statsmodels.api as sm\n",
    "import linearmodels as lm\n",
    "\n",
    "import matplotlib.pyplot as plt\n",
    "import seaborn as sns\n",
    "\n",
    "import mypack.data as data\n",
    "import mypack.calc as calc\n",
    "import mypack.plot as plot\n",
    "import mypack.clas as clas"
   ]
  },
  {
   "cell_type": "code",
   "execution_count": 3,
   "metadata": {},
   "outputs": [],
   "source": [
    "pd.set_option('display.float_format', lambda x: '%.4f' % x) #sets decimals to be displayed"
   ]
  },
  {
   "cell_type": "code",
   "execution_count": 4,
   "metadata": {},
   "outputs": [],
   "source": [
    "sns.set()\n",
    "sns.set(rc={'figure.figsize': (17, 6)})"
   ]
  },
  {
   "cell_type": "code",
   "execution_count": 5,
   "metadata": {},
   "outputs": [],
   "source": [
    "%matplotlib inline"
   ]
  },
  {
   "cell_type": "markdown",
   "metadata": {},
   "source": [
    "## Data"
   ]
  },
  {
   "cell_type": "code",
   "execution_count": 6,
   "metadata": {},
   "outputs": [],
   "source": [
    "df_market_estimates = pd.read_pickle('df_market.pkl')"
   ]
  },
  {
   "cell_type": "code",
   "execution_count": 7,
   "metadata": {},
   "outputs": [],
   "source": [
    "df_market_predictions = pd.read_pickle('df_market_predictions.pkl')"
   ]
  },
  {
   "cell_type": "markdown",
   "metadata": {},
   "source": [
    "## Calculate Predictions\n",
    "### State Probabilities"
   ]
  },
  {
   "cell_type": "code",
   "execution_count": 8,
   "metadata": {},
   "outputs": [],
   "source": [
    "hmm_name = 'HMM_mmss_20'"
   ]
  },
  {
   "cell_type": "code",
   "execution_count": 9,
   "metadata": {},
   "outputs": [],
   "source": [
    "prediction_horizons = list(range(1,22))+[31,42,63,126,189,252]"
   ]
  },
  {
   "cell_type": "code",
   "execution_count": 8,
   "metadata": {},
   "outputs": [],
   "source": [
    "df_market_predictions = pd.DataFrame(index=df_market_estimates.index, columns = pd.MultiIndex.from_product([[],[]], names=['horizon','variable']))"
   ]
  },
  {
   "cell_type": "code",
   "execution_count": 10,
   "metadata": {},
   "outputs": [],
   "source": [
    "df_market_predictions[('data','return')] = df_market_estimates[('raw_data','return')]"
   ]
  },
  {
   "cell_type": "code",
   "execution_count": 9,
   "metadata": {},
   "outputs": [
    {
     "name": "stderr",
     "output_type": "stream",
     "text": [
      "100%|████████████████████████████████████████████████████████████████████████████████| 252/252 [41:51<00:00,  9.91s/it]\n"
     ]
    }
   ],
   "source": [
    "%%time\n",
    "\n",
    "for h in tqdm.trange(0,max(prediction_horizons)+1):\n",
    "    p0 = []\n",
    "    p1 = []\n",
    "    for iObs in df_market_estimates.index:\n",
    "        state_probabilities = [df_market_estimates[hmm_name,'filt_prob_0'].at[iObs], df_market_estimates[hmm_name,'filt_prob_1'].at[iObs]]\n",
    "        transition_matrix = [[df_market_estimates[hmm_name,'p00'].at[iObs], 1-df_market_estimates[hmm_name,'p00'].at[iObs]],\n",
    "                         [df_market_estimates[hmm_name,'p10'].at[iObs], 1-df_market_estimates[hmm_name,'p10'].at[iObs]]]\n",
    "        p0 += [clas.MarkovChain(transition_matrix, state_probabilities).iterate(h, return_state_vector=True)[0]]\n",
    "        p1 += [clas.MarkovChain(transition_matrix, state_probabilities).iterate(h, return_state_vector=True)[1]]\n",
    "\n",
    "    df_market_predictions[(h,'p0')] = p0\n",
    "    df_market_predictions[(h,'p1')] = p1"
   ]
  },
  {
   "cell_type": "code",
   "execution_count": 10,
   "metadata": {},
   "outputs": [],
   "source": [
    "df_market_predictions.to_pickle('df_market_predictions.pkl')"
   ]
  },
  {
   "cell_type": "markdown",
   "metadata": {},
   "source": [
    "### Distribution Moments"
   ]
  },
  {
   "cell_type": "code",
   "execution_count": 29,
   "metadata": {},
   "outputs": [
    {
     "name": "stderr",
     "output_type": "stream",
     "text": [
      "100%|██████████████████████████████████████████████████████████████████████████| 19495/19495 [1:45:39<00:00,  3.07it/s]\n"
     ]
    },
    {
     "name": "stdout",
     "output_type": "stream",
     "text": [
      "Wall time: 1h 45min 39s\n"
     ]
    }
   ],
   "source": [
    "%%time\n",
    "\n",
    "# iterate through each period\n",
    "for iObs in tqdm.tqdm(df_market_estimates.index[df_market_estimates[hmm_name,'convergence']=='True']):\n",
    "    product = clas.ProductDistribution([])\n",
    "    ent, l2, mins, posit = [], [], [], []\n",
    "    \n",
    "    # iterate through all forecast horizons\n",
    "    for h in range(1,max(prediction_horizons)+1):\n",
    "        # get component inputs for mixture distribution\n",
    "        mus = [df_market_estimates[hmm_name,'mu_0'].at[iObs], df_market_estimates[hmm_name,'mu_1'].at[iObs]]\n",
    "        sigmas = [df_market_estimates[hmm_name,'sigma2_0'].at[iObs]**0.5, df_market_estimates[hmm_name,'sigma2_1'].at[iObs]**0.5]\n",
    "        weights = [df_market_predictions[(h,'p0')].at[iObs], df_market_predictions[(h,'p1')].at[iObs]]\n",
    "        \n",
    "        if h == 1:\n",
    "            ks = calc.calculate_kolmogorov_smirnov_distance(mus[0], mus[1], sigmas[0], sigmas[1])\n",
    "        \n",
    "        # create forecast mixture distribution\n",
    "        mixture = clas.MixtureDistribution([])\n",
    "        for (m,s,p) in zip(mus,sigmas,weights):\n",
    "            mixture.add_component((m,s,p))\n",
    "        \n",
    "        # calculate mixture moments and add central moments to factor distribution\n",
    "        m,v,s,k = mixture.mvsk()\n",
    "        ent += [mixture.entropy()]\n",
    "        l2 += [1-4*(mixture.components[0][2]-0.5)**2]\n",
    "        mins += [min(mixture.components[0][2], 1-mixture.components[0][2])]\n",
    "        posit += [1-mixture.cdf(0)]\n",
    "        \n",
    "        product.add_factor((m+1,v,s*v**1.5,(k+3)*v**2)) #central moments as inputs\n",
    "        \n",
    "        # save outputs\n",
    "        if h in prediction_horizons:\n",
    "            # one-period distribution\n",
    "            df_market_predictions.at[iObs,(h,'mean')] = m\n",
    "            df_market_predictions.at[iObs,(h,'var')] = v\n",
    "            df_market_predictions.at[iObs,(h,'skew')] = s\n",
    "            df_market_predictions.at[iObs,(h,'kurt')] = k\n",
    "            df_market_predictions.at[iObs,(h,'std')] = mixture.std()\n",
    "            df_market_predictions.at[iObs,(h,'entropy')] = ent[-1]\n",
    "            df_market_predictions.at[iObs,(h,'L2')] = l2[-1]\n",
    "            df_market_predictions.at[iObs,(h,'min')] = mins[-1]\n",
    "            df_market_predictions.at[iObs,(h,'positive')] = posit[-1]\n",
    "            df_market_predictions.at[iObs,(h,'ks')] = ks\n",
    "            \n",
    "            # cumulative distribution\n",
    "            df_market_predictions.at[iObs,(h,'cummean')] = product.mean()-1\n",
    "            df_market_predictions.at[iObs,(h,'cumvar')] = product.var()\n",
    "            df_market_predictions.at[iObs,(h,'cumskew')] = product.skew()\n",
    "            df_market_predictions.at[iObs,(h,'cumkurt')] = product.kurt()\n",
    "            df_market_predictions.at[iObs,(h,'cumstd')] = product.std()\n",
    "            df_market_predictions.at[iObs,(h,'cumentropy')] = sum(ent)/len(ent)\n",
    "            df_market_predictions.at[iObs,(h,'cumL2')] = sum(l2)/len(l2)\n",
    "            df_market_predictions.at[iObs,(h,'cummin')] = sum(mins)/len(mins)\n",
    "            df_market_predictions.at[iObs,(h,'cumpositive')] = sum(posit)/len(posit)"
   ]
  },
  {
   "cell_type": "code",
   "execution_count": null,
   "metadata": {},
   "outputs": [],
   "source": [
    "df_market_predictions.to_pickle('df_market_predictions.pkl')"
   ]
  }
 ],
 "metadata": {
  "kernelspec": {
   "display_name": "Python 3",
   "language": "python",
   "name": "python3"
  },
  "language_info": {
   "codemirror_mode": {
    "name": "ipython",
    "version": 3
   },
   "file_extension": ".py",
   "mimetype": "text/x-python",
   "name": "python",
   "nbconvert_exporter": "python",
   "pygments_lexer": "ipython3",
   "version": "3.7.0"
  }
 },
 "nbformat": 4,
 "nbformat_minor": 2
}
