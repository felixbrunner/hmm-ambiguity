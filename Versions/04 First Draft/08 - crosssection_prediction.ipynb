{
 "cells": [
  {
   "cell_type": "markdown",
   "metadata": {},
   "source": [
    "# Cross-Section Predictions"
   ]
  },
  {
   "cell_type": "markdown",
   "metadata": {},
   "source": [
    "## Imports"
   ]
  },
  {
   "cell_type": "code",
   "execution_count": 1,
   "metadata": {},
   "outputs": [],
   "source": [
    "%load_ext autoreload\n",
    "%autoreload 2"
   ]
  },
  {
   "cell_type": "code",
   "execution_count": 2,
   "metadata": {},
   "outputs": [],
   "source": [
    "import numpy as np\n",
    "import scipy as sp\n",
    "import pandas as pd\n",
    "import pandas_datareader.data as web\n",
    "import datetime as dt\n",
    "\n",
    "import warnings\n",
    "import tqdm\n",
    "\n",
    "import statsmodels.api as sm\n",
    "import linearmodels as lm\n",
    "\n",
    "import matplotlib.pyplot as plt\n",
    "import seaborn as sns\n",
    "\n",
    "import mypack.data as data\n",
    "import mypack.calc as calc\n",
    "import mypack.plot as plot\n",
    "import mypack.clas as clas"
   ]
  },
  {
   "cell_type": "code",
   "execution_count": 3,
   "metadata": {},
   "outputs": [],
   "source": [
    "pd.set_option('display.float_format', lambda x: '%.4f' % x) #sets decimals to be displayed"
   ]
  },
  {
   "cell_type": "code",
   "execution_count": 4,
   "metadata": {},
   "outputs": [],
   "source": [
    "sns.set()\n",
    "sns.set(rc={'figure.figsize': (17, 6)})"
   ]
  },
  {
   "cell_type": "code",
   "execution_count": 5,
   "metadata": {},
   "outputs": [],
   "source": [
    "%matplotlib inline"
   ]
  },
  {
   "cell_type": "markdown",
   "metadata": {},
   "source": [
    "## Data"
   ]
  },
  {
   "cell_type": "code",
   "execution_count": 6,
   "metadata": {},
   "outputs": [],
   "source": [
    "df_xs_estimates = pd.read_pickle('df_xs_estimates.pkl')"
   ]
  },
  {
   "cell_type": "code",
   "execution_count": 7,
   "metadata": {},
   "outputs": [],
   "source": [
    "df_xs_predictions = pd.read_pickle('df_xs_predictions.pkl')"
   ]
  },
  {
   "cell_type": "markdown",
   "metadata": {},
   "source": [
    "## Calculate Predictions"
   ]
  },
  {
   "cell_type": "code",
   "execution_count": 8,
   "metadata": {},
   "outputs": [],
   "source": [
    "hmm_name = 'HMM_mmss_20'"
   ]
  },
  {
   "cell_type": "code",
   "execution_count": 9,
   "metadata": {},
   "outputs": [],
   "source": [
    "prediction_horizons = list(range(1,22))#+[31,42,63,126,189,252]"
   ]
  },
  {
   "cell_type": "markdown",
   "metadata": {},
   "source": [
    "### State Probabilities"
   ]
  },
  {
   "cell_type": "code",
   "execution_count": 10,
   "metadata": {},
   "outputs": [],
   "source": [
    "df_xs_predictions = pd.DataFrame(index=df_xs_estimates.index, columns = pd.MultiIndex.from_product([[],[]], names=['horizon','variable']))"
   ]
  },
  {
   "cell_type": "code",
   "execution_count": 11,
   "metadata": {},
   "outputs": [],
   "source": [
    "df_xs_predictions[('data','return')] = df_xs_estimates[('data','return')]"
   ]
  },
  {
   "cell_type": "code",
   "execution_count": 12,
   "metadata": {},
   "outputs": [
    {
     "name": "stderr",
     "output_type": "stream",
     "text": [
      "100%|███████████████████████████████████████████████████████████████████████████████| 22/22 [3:08:24<00:00, 595.10s/it]\n"
     ]
    },
    {
     "name": "stdout",
     "output_type": "stream",
     "text": [
      "Wall time: 3h 8min 55s\n"
     ]
    }
   ],
   "source": [
    "%%time\n",
    "\n",
    "for h in tqdm.trange(0,max(prediction_horizons)+1):\n",
    "    p0 = []\n",
    "    p1 = []\n",
    "    for iObs in df_xs_predictions.index:\n",
    "        state_probabilities = [df_xs_estimates.at[iObs,(hmm_name,'filt_prob_0')], df_xs_estimates.at[iObs,(hmm_name,'filt_prob_1')]]\n",
    "        transition_matrix = [[df_xs_estimates.at[iObs,(hmm_name,'p00')], 1-df_xs_estimates.at[iObs,(hmm_name,'p00')]],\n",
    "                             [df_xs_estimates.at[iObs,(hmm_name,'p10')], 1-df_xs_estimates.at[iObs,(hmm_name,'p10')]]]\n",
    "        p0 += [clas.MarkovChain(transition_matrix, state_probabilities).iterate(h, return_state_vector=True)[0]]\n",
    "        p1 += [clas.MarkovChain(transition_matrix, state_probabilities).iterate(h, return_state_vector=True)[1]]\n",
    "\n",
    "    df_xs_predictions[(h,'p0')] = p0\n",
    "    df_xs_predictions[(h,'p1')] = p1\n",
    "\n",
    "    #if h % 5 == 0:\n",
    "        # due to the size of the dataframe the saved file has to be split\n",
    "        #df_xs_predictions.iloc[0:int(len(df_xs_predictions)/2)].to_pickle('df_xs_predictions_1.pkl')\n",
    "        #df_xs_predictions.iloc[int(len(df_xs_predictions)/2):].to_pickle('df_xs_predictions_2.pkl')\n",
    "\n",
    "df_xs_predictions.to_pickle('df_xs_predictions.pkl')"
   ]
  },
  {
   "cell_type": "code",
   "execution_count": 29,
   "metadata": {},
   "outputs": [],
   "source": [
    "#df_xs_predictions.iloc[0:int(len(df_xs_predictions)/2)].to_pickle('df_xs_predictions1.pkl')\n",
    "#df_xs_predictions.iloc[int(len(df_xs_predictions)/2):].to_pickle('df_xs_predictions2.pkl')"
   ]
  },
  {
   "cell_type": "markdown",
   "metadata": {},
   "source": [
    "### Distribution Moments"
   ]
  },
  {
   "cell_type": "code",
   "execution_count": 10,
   "metadata": {},
   "outputs": [],
   "source": [
    "prediction_horizons = [1]"
   ]
  },
  {
   "cell_type": "code",
   "execution_count": 11,
   "metadata": {},
   "outputs": [],
   "source": [
    "for h in prediction_horizons:\n",
    "    df_xs_predictions[h,'mean'] = np.nan\n",
    "    df_xs_predictions[h,'var'] = np.nan\n",
    "    df_xs_predictions[h,'skew'] = np.nan\n",
    "    df_xs_predictions[h,'kurt'] = np.nan\n",
    "    df_xs_predictions[h,'std'] = np.nan\n",
    "    df_xs_predictions[h,'entropy'] = np.nan\n",
    "    df_xs_predictions[h,'L2'] = np.nan\n",
    "    df_xs_predictions[h,'min'] = np.nan\n",
    "    df_xs_predictions[h,'positive'] = np.nan\n",
    "    df_xs_predictions[h,'ks'] = np.nan\n",
    "    \n",
    "    df_xs_predictions[h,'cummean'] = np.nan\n",
    "    df_xs_predictions[h,'cumvar'] = np.nan\n",
    "    df_xs_predictions[h,'cumskew'] = np.nan\n",
    "    df_xs_predictions[h,'cumkurt'] = np.nan\n",
    "    df_xs_predictions[h,'cumstd'] = np.nan\n",
    "    df_xs_predictions[h,'cumentropy'] = np.nan\n",
    "    df_xs_predictions[h,'cumL2'] = np.nan\n",
    "    df_xs_predictions[h,'cummin'] = np.nan\n",
    "    df_xs_predictions[h,'cumpositive'] = np.nan"
   ]
  },
  {
   "cell_type": "code",
   "execution_count": 12,
   "metadata": {},
   "outputs": [
    {
     "name": "stderr",
     "output_type": "stream",
     "text": [
      "100%|█████████████████████████████████████████████████████████████████████████| 847125/847125 [44:30<00:00, 317.19it/s]\n"
     ]
    },
    {
     "name": "stdout",
     "output_type": "stream",
     "text": [
      "Wall time: 44min 31s\n"
     ]
    }
   ],
   "source": [
    "%%time\n",
    "\n",
    "count = 0\n",
    "\n",
    "# iterate through each period\n",
    "for iObs in tqdm.tqdm(df_xs_estimates.index[df_xs_estimates[hmm_name,'convergence']=='True']):\n",
    "    product = clas.ProductDistribution([])\n",
    "    ent, l2, mins, posit = [], [], [], []\n",
    "    \n",
    "    # iterate through all forecast horizons\n",
    "    for h in range(1,max(prediction_horizons)+1):\n",
    "        # get component inputs for mixture distribution\n",
    "        mus = [df_xs_estimates.at[iObs,(hmm_name,'mu_0')], df_xs_estimates.at[iObs,(hmm_name,'mu_1')]]\n",
    "        sigmas = [df_xs_estimates.at[iObs,(hmm_name,'sigma2_0')]**0.5, df_xs_estimates.at[iObs,(hmm_name,'sigma2_1')]**0.5]\n",
    "        weights = [df_xs_predictions.at[iObs,(h,'p0')], df_xs_predictions.at[iObs,(h,'p1')]]\n",
    "        \n",
    "        if h == 1:\n",
    "            ks = calc.calculate_kolmogorov_smirnov_distance(mus[0], mus[1], sigmas[0], sigmas[1])\n",
    "        \n",
    "        # create forecast mixture distribution\n",
    "        mixture = clas.MixtureDistribution([])\n",
    "        for (m,s,p) in zip(mus,sigmas,weights):\n",
    "            mixture.add_component((m,s,p))\n",
    "        \n",
    "        # calculate mixture moments and add central moments to factor distribution\n",
    "        m,v,s,k = mixture.mvsk()\n",
    "        ent += [mixture.entropy()]\n",
    "        l2 += [1-4*(mixture.components[0][2]-0.5)**2]\n",
    "        mins += [min(mixture.components[0][2], 1-mixture.components[0][2])]\n",
    "        posit += [1-mixture.cdf(0)]\n",
    "        \n",
    "        product.add_factor((m+1,v,s*v**1.5,(k+3)*v**2)) #central moments as inputs\n",
    "        \n",
    "        # save outputs\n",
    "        if h in prediction_horizons:\n",
    "            # one-period distribution\n",
    "            df_xs_predictions.at[iObs,(h,'mean')] = m\n",
    "            df_xs_predictions.at[iObs,(h,'var')] = v\n",
    "            df_xs_predictions.at[iObs,(h,'skew')] = s\n",
    "            df_xs_predictions.at[iObs,(h,'kurt')] = k\n",
    "            df_xs_predictions.at[iObs,(h,'std')] = mixture.std()\n",
    "            df_xs_predictions.at[iObs,(h,'entropy')] = ent[-1]\n",
    "            df_xs_predictions.at[iObs,(h,'L2')] = l2[-1]\n",
    "            df_xs_predictions.at[iObs,(h,'min')] = mins[-1]\n",
    "            df_xs_predictions.at[iObs,(h,'positive')] = posit[-1]\n",
    "            df_xs_predictions.at[iObs,(h,'ks')] = ks\n",
    "            \n",
    "            # cumulative distribution\n",
    "            df_xs_predictions.at[iObs,(h,'cummean')] = product.mean()-1\n",
    "            df_xs_predictions.at[iObs,(h,'cumvar')] = product.var()\n",
    "            df_xs_predictions.at[iObs,(h,'cumskew')] = product.skew()\n",
    "            df_xs_predictions.at[iObs,(h,'cumkurt')] = product.kurt()\n",
    "            df_xs_predictions.at[iObs,(h,'cumstd')] = product.std()\n",
    "            df_xs_predictions.at[iObs,(h,'cumentropy')] = sum(ent)/len(ent)\n",
    "            df_xs_predictions.at[iObs,(h,'cumL2')] = sum(l2)/len(l2)\n",
    "            df_xs_predictions.at[iObs,(h,'cummin')] = sum(mins)/len(mins)\n",
    "            df_xs_predictions.at[iObs,(h,'cumpositive')] = sum(posit)/len(posit)\n",
    "      \n",
    "    #if count % 50000 == 0:\n",
    "    #    df_xs_predictions.to_pickle('df_xs_predictions.pkl')\n",
    "    #count += 1\n",
    "    \n",
    "df_xs_predictions.to_pickle('df_xs_predictions.pkl')"
   ]
  }
 ],
 "metadata": {
  "kernelspec": {
   "display_name": "Python 3",
   "language": "python",
   "name": "python3"
  },
  "language_info": {
   "codemirror_mode": {
    "name": "ipython",
    "version": 3
   },
   "file_extension": ".py",
   "mimetype": "text/x-python",
   "name": "python",
   "nbconvert_exporter": "python",
   "pygments_lexer": "ipython3",
   "version": "3.7.0"
  }
 },
 "nbformat": 4,
 "nbformat_minor": 2
}
