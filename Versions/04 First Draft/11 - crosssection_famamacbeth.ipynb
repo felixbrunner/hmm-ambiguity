{
 "cells": [
  {
   "cell_type": "markdown",
   "metadata": {},
   "source": [
    "# Cross-Section FMB"
   ]
  },
  {
   "cell_type": "markdown",
   "metadata": {},
   "source": [
    "## Imports"
   ]
  },
  {
   "cell_type": "code",
   "execution_count": 1,
   "metadata": {},
   "outputs": [],
   "source": [
    "%load_ext autoreload\n",
    "%autoreload 2"
   ]
  },
  {
   "cell_type": "code",
   "execution_count": 2,
   "metadata": {},
   "outputs": [],
   "source": [
    "import numpy as np\n",
    "import scipy as sp\n",
    "import pandas as pd\n",
    "\n",
    "import warnings\n",
    "import multiprocessing as mp\n",
    "import dill\n",
    "import tqdm\n",
    "\n",
    "import pandas_datareader.data as web\n",
    "import datetime as dt\n",
    "\n",
    "import statsmodels.api as sm\n",
    "import linearmodels as lm\n",
    "\n",
    "import matplotlib.pyplot as plt\n",
    "import seaborn as sns\n",
    "\n",
    "import mypack.data as data\n",
    "import mypack.calc as calc\n",
    "import mypack.plot as plot\n",
    "import mypack.clas as clas"
   ]
  },
  {
   "cell_type": "code",
   "execution_count": 3,
   "metadata": {},
   "outputs": [],
   "source": [
    "pd.set_option('display.float_format', lambda x: '%.4f' % x) #sets decimals to be displayed"
   ]
  },
  {
   "cell_type": "code",
   "execution_count": 4,
   "metadata": {},
   "outputs": [],
   "source": [
    "sns.set()\n",
    "sns.set(rc={'figure.figsize': (17, 6)})"
   ]
  },
  {
   "cell_type": "code",
   "execution_count": 5,
   "metadata": {},
   "outputs": [],
   "source": [
    "%matplotlib inline"
   ]
  },
  {
   "cell_type": "markdown",
   "metadata": {},
   "source": [
    "## Data"
   ]
  },
  {
   "cell_type": "markdown",
   "metadata": {},
   "source": [
    "#### Market level"
   ]
  },
  {
   "cell_type": "code",
   "execution_count": 6,
   "metadata": {},
   "outputs": [],
   "source": [
    "df_ts_predictions = pd.read_pickle('df_ts_predictions.pkl')\n",
    "df_ts_estimates = pd.read_pickle('df_ts_estimates.pkl')\n",
    "\n",
    "df_ts_factors = df_ts_predictions[[(1,'mean'),(1,'var'),(1,'skew'),(1,'kurt'),(1,'entropy')]].join(df_ts_estimates['raw_data','return'])\n",
    "df_ts_factors.columns = df_ts_factors.columns.droplevel(0)"
   ]
  },
  {
   "cell_type": "markdown",
   "metadata": {},
   "source": [
    "#### Industry level"
   ]
  },
  {
   "cell_type": "code",
   "execution_count": 7,
   "metadata": {},
   "outputs": [],
   "source": [
    "df_xs_predictions = pd.read_pickle('df_xs_predictions.pkl')\n",
    "df_xs_estimates = pd.read_pickle('df_xs_estimates.pkl')\n",
    "\n",
    "df_xs_data = df_xs_predictions[[(1,'mean'),(1,'var'),(1,'skew'),(1,'kurt'),(1,'entropy'),('data','return')]]\n",
    "df_xs_data.columns = df_xs_data.columns.droplevel(0)"
   ]
  },
  {
   "cell_type": "markdown",
   "metadata": {},
   "source": [
    "## Estimate Loadings"
   ]
  },
  {
   "cell_type": "code",
   "execution_count": 8,
   "metadata": {},
   "outputs": [],
   "source": [
    "win_yrs = 1\n",
    "fact_dates = df_ts_factors.index\n",
    "est_dates = fact_dates[fact_dates>fact_dates[0].replace(year=fact_dates[0].year+win_yrs)]\n",
    "\n",
    "df_loadings = pd.DataFrame(index=pd.MultiIndex.from_product([est_dates,df_xs_data.index.get_level_values(1).unique()], names=['Date','Industry']), columns=pd.MultiIndex.from_product([[],[]]))"
   ]
  },
  {
   "cell_type": "markdown",
   "metadata": {},
   "source": [
    "##### Multivariate rolling-window regressions"
   ]
  },
  {
   "cell_type": "code",
   "execution_count": 9,
   "metadata": {},
   "outputs": [
    {
     "name": "stderr",
     "output_type": "stream",
     "text": [
      "100%|████████████████████████████████████████████████████████████████████████████| 24195/24195 [59:58<00:00,  7.26it/s]\n"
     ]
    },
    {
     "name": "stdout",
     "output_type": "stream",
     "text": [
      "Wall time: 59min 59s\n"
     ]
    }
   ],
   "source": [
    "%%time\n",
    "factors = ['mean','var','skew','kurt','entropy']\n",
    "df_betas = pd.DataFrame(index=df_xs_data.index, columns=factors)\n",
    "\n",
    "dep = df_xs_data['return'].unstack()\n",
    "beta_list = []\n",
    "\n",
    "for iDate in tqdm.tqdm(est_dates):\n",
    "    window = fact_dates[(fact_dates>[iDate+dt.timedelta(1) if (iDate.day==29)&(iDate.month==2) else iDate][0].replace(year=iDate.year-win_yrs)) & (fact_dates<=iDate)]\n",
    "    x = df_ts_factors.loc[window,factors]\n",
    "    x['constant'] = 1\n",
    "    \n",
    "    for iInd in df_xs_data.index.get_level_values(1).unique():\n",
    "        y = dep.loc[window,iInd]\n",
    "        \n",
    "        try:\n",
    "            betas = np.dot(np.linalg.inv(np.dot(x.T,x)),np.dot(x.T,y))[:-1]\n",
    "        except:\n",
    "            betas = np.full(len(factors), np.nan)\n",
    "        \n",
    "        betas.shape = (len(factors),)\n",
    "        beta_list += [betas]"
   ]
  },
  {
   "cell_type": "code",
   "execution_count": 12,
   "metadata": {},
   "outputs": [],
   "source": [
    "df_betas = pd.DataFrame(index=pd.MultiIndex.from_product([est_dates,df_xs_data.index.get_level_values(1).unique()], names=['Date','Industry']), columns=factors)\n",
    "df_betas[factors] = np.matrix(beta_list)\n",
    "df_betas.columns = pd.MultiIndex.from_product([['multi'],df_betas.columns])\n",
    "\n",
    "df_loadings = df_loadings.merge(df_betas, left_index=True, right_on=['Date','Industry'])\n",
    "\n",
    "df_loadings.to_pickle('df_loadings.pkl')"
   ]
  },
  {
   "cell_type": "code",
   "execution_count": 14,
   "metadata": {},
   "outputs": [
    {
     "name": "stderr",
     "output_type": "stream",
     "text": [
      "100%|████████████████████████████████████████████████████████████████████████████| 24195/24195 [56:01<00:00,  7.09it/s]\n"
     ]
    },
    {
     "name": "stdout",
     "output_type": "stream",
     "text": [
      "Wall time: 56min 3s\n"
     ]
    }
   ],
   "source": [
    "%%time\n",
    "factors = ['mean','var','skew','kurt','entropy','return']\n",
    "df_betas = pd.DataFrame(index=df_xs_data.index, columns=factors)\n",
    "\n",
    "dep = df_xs_data['return'].unstack()\n",
    "beta_list = []\n",
    "\n",
    "for iDate in tqdm.tqdm(est_dates):\n",
    "    window = fact_dates[(fact_dates>[iDate+dt.timedelta(1) if (iDate.day==29)&(iDate.month==2) else iDate][0].replace(year=iDate.year-win_yrs)) & (fact_dates<=iDate)]\n",
    "    x = df_ts_factors.loc[window,factors]\n",
    "    x['constant'] = 1\n",
    "    \n",
    "    for iInd in df_xs_data.index.get_level_values(1).unique():\n",
    "        y = dep.loc[window,iInd]\n",
    "        \n",
    "        try:\n",
    "            betas = np.dot(np.linalg.inv(np.dot(x.T,x)),np.dot(x.T,y))[:-1]\n",
    "        except:\n",
    "            betas = np.full(len(factors), np.nan)\n",
    "        \n",
    "        betas.shape = (len(factors),)\n",
    "        beta_list += [betas]"
   ]
  },
  {
   "cell_type": "code",
   "execution_count": 15,
   "metadata": {},
   "outputs": [],
   "source": [
    "df_betas = pd.DataFrame(index=pd.MultiIndex.from_product([est_dates,df_xs_data.index.get_level_values(1).unique()], names=['Date','Industry']), columns=factors)\n",
    "df_betas[factors] = np.matrix(beta_list)\n",
    "df_betas.columns = pd.MultiIndex.from_product([['multi_mkt'],df_betas.columns])\n",
    "\n",
    "df_loadings = df_loadings.merge(df_betas, left_index=True, right_on=['Date','Industry'])\n",
    "\n",
    "df_loadings.to_pickle('df_loadings.pkl')"
   ]
  },
  {
   "cell_type": "markdown",
   "metadata": {},
   "source": [
    "##### Univariate rolling-window regressions"
   ]
  },
  {
   "cell_type": "code",
   "execution_count": 38,
   "metadata": {},
   "outputs": [
    {
     "name": "stderr",
     "output_type": "stream",
     "text": [
      "100%|██████████████████████████████████████████████████████████████████████████| 24195/24195 [2:10:23<00:00,  7.41it/s]\n",
      "100%|██████████████████████████████████████████████████████████████████████████| 24195/24195 [1:04:21<00:00,  6.16it/s]\n",
      "100%|████████████████████████████████████████████████████████████████████████████| 24195/24195 [59:13<00:00,  7.19it/s]\n",
      "100%|██████████████████████████████████████████████████████████████████████████| 24195/24195 [1:04:12<00:00,  6.38it/s]\n",
      "100%|██████████████████████████████████████████████████████████████████████████| 24195/24195 [1:06:18<00:00,  4.79it/s]\n",
      "100%|██████████████████████████████████████████████████████████████████████████| 24195/24195 [1:06:23<00:00,  6.42it/s]\n"
     ]
    },
    {
     "name": "stdout",
     "output_type": "stream",
     "text": [
      "Wall time: 7h 31min 10s\n"
     ]
    }
   ],
   "source": [
    "%%time\n",
    "factors = ['mean','var','skew','kurt','entropy','return']\n",
    "df_betas = pd.DataFrame(index=df_xs_data.index, columns=factors)\n",
    "\n",
    "beta_list = []\n",
    "\n",
    "for iFact in factors:\n",
    "    dep = df_xs_data[iFact].unstack()\n",
    "    indep = df_ts_factors[iFact]\n",
    "    \n",
    "    beta_list = []\n",
    "    \n",
    "    for iDate in tqdm.tqdm(est_dates):\n",
    "        window = fact_dates[(fact_dates>[iDate+dt.timedelta(1) if (iDate.day==29)&(iDate.month==2) else iDate][0].replace(year=iDate.year-win_yrs)) & (fact_dates<=iDate)]\n",
    "        x = indep.loc[window].to_frame()\n",
    "        x['constant'] = 1\n",
    "    \n",
    "        for iInd in df_xs_data.index.get_level_values(1).unique():\n",
    "            y = dep.loc[window,iInd]\n",
    "        \n",
    "            try:\n",
    "                betas = np.dot(np.linalg.inv(np.dot(x.T,x)),np.dot(x.T,y))[0]\n",
    "            except:\n",
    "                betas = np.full(1, np.nan)\n",
    "        \n",
    "            beta_list += [betas]\n",
    "    \n",
    "    s_betas = pd.DataFrame(beta_list, index=pd.MultiIndex.from_product([est_dates,df_xs_data.index.get_level_values(1).unique()], names=['Date','Industry']), columns=pd.MultiIndex.from_tuples([('uni',iFact)]))  \n",
    "    df_loadings = df_loadings.merge(s_betas, left_index=True, right_on=['Date','Industry'])"
   ]
  },
  {
   "cell_type": "code",
   "execution_count": 39,
   "metadata": {},
   "outputs": [],
   "source": [
    "df_loadings.to_pickle('df_loadings.pkl')"
   ]
  },
  {
   "cell_type": "markdown",
   "metadata": {},
   "source": [
    "### FMB regressions"
   ]
  },
  {
   "cell_type": "markdown",
   "metadata": {},
   "source": [
    "#### Multivariate"
   ]
  },
  {
   "cell_type": "code",
   "execution_count": 127,
   "metadata": {},
   "outputs": [],
   "source": [
    "# set up data\n",
    "data_fmb = df_xs_data['return'].to_frame()\n",
    "data_fmb.columns = pd.MultiIndex.from_tuples([('data','return')])\n",
    "data_fmb = data_fmb.merge(df_loadings, left_index=True, right_on=['Date','Industry'])\n",
    "data_fmb = data_fmb[data_fmb[('data','return')].notna()]\n",
    "\n",
    "# select\n",
    "y = data_fmb[('data','return')]"
   ]
  },
  {
   "cell_type": "code",
   "execution_count": 128,
   "metadata": {},
   "outputs": [],
   "source": [
    "# set up output table\n",
    "column_labels = ['$\\\\beta_{r_i,\\mathbb{E}_M}$','$\\\\beta_{r_i,\\mathbb{V}_M}$','$\\\\beta_{r_i,\\mathbb{S}_M}$','$\\\\beta_{r_i,\\mathbb{K}_M}$','$\\\\beta_{r_i,\\mathbb{H}_M}$','$\\\\beta_{r_i,r_M}$','$\\\\alpha$','R$^2$']\n",
    "fmb_table = pd.DataFrame(index=pd.MultiIndex.from_product([[1,2],['est.','t-stat','t-stat (HAC)']]), columns=column_labels)"
   ]
  },
  {
   "cell_type": "code",
   "execution_count": 129,
   "metadata": {},
   "outputs": [
    {
     "name": "stderr",
     "output_type": "stream",
     "text": [
      "C:\\ProgramData\\Anaconda3\\lib\\site-packages\\ipykernel_launcher.py:3: SettingWithCopyWarning: \n",
      "A value is trying to be set on a copy of a slice from a DataFrame.\n",
      "Try using .loc[row_indexer,col_indexer] = value instead\n",
      "\n",
      "See the caveats in the documentation: http://pandas.pydata.org/pandas-docs/stable/indexing.html#indexing-view-versus-copy\n",
      "  This is separate from the ipykernel package so we can avoid doing imports until\n",
      "C:\\ProgramData\\Anaconda3\\lib\\site-packages\\linearmodels\\utility.py:454: MissingValueWarning: \n",
      "Inputs contain missing values. Dropping rows with missing observations.\n",
      "  warnings.warn(missing_value_warning_msg, MissingValueWarning)\n",
      "C:\\ProgramData\\Anaconda3\\lib\\site-packages\\linearmodels\\panel\\data.py:314: FutureWarning: .labels was deprecated in version 0.24.0. Use .codes instead.\n",
      "  return list(index.levels[0][index.labels[0]].unique())\n",
      "C:\\ProgramData\\Anaconda3\\lib\\site-packages\\linearmodels\\panel\\data.py:326: FutureWarning: .labels was deprecated in version 0.24.0. Use .codes instead.\n",
      "  return np.asarray(self._frame.index.labels[0])[:, None]\n",
      "C:\\ProgramData\\Anaconda3\\lib\\site-packages\\linearmodels\\panel\\data.py:338: FutureWarning: .labels was deprecated in version 0.24.0. Use .codes instead.\n",
      "  return np.asarray(self._frame.index.labels[1])[:, None]\n"
     ]
    }
   ],
   "source": [
    "# set up independents\n",
    "x = data_fmb['multi']\n",
    "x['constant'] = 1\n",
    "\n",
    "# run regressions\n",
    "reg = lm.FamaMacBeth(y.swaplevel(0,1),x.swaplevel(0,1)).fit()\n",
    "fmb_table.loc[(1,'est.'),[column_labels[l] for l in [0,1,2,3,4,6]]] = reg.params.values\n",
    "fmb_table.loc[(1,'est.'),'R$^2$'] = reg.rsquared\n",
    "fmb_table.loc[(1,'t-stat'),[column_labels[l] for l in [0,1,2,3,4,6]]] = reg.tstats.values\n",
    "reg = lm.FamaMacBeth(y.swaplevel(0,1),x.swaplevel(0,1)).fit(cov_type='kernel')\n",
    "fmb_table.loc[(1,'t-stat (HAC)'),[column_labels[l] for l in [0,1,2,3,4,6]]] = reg.tstats.values"
   ]
  },
  {
   "cell_type": "code",
   "execution_count": 130,
   "metadata": {},
   "outputs": [
    {
     "name": "stderr",
     "output_type": "stream",
     "text": [
      "C:\\ProgramData\\Anaconda3\\lib\\site-packages\\ipykernel_launcher.py:3: SettingWithCopyWarning: \n",
      "A value is trying to be set on a copy of a slice from a DataFrame.\n",
      "Try using .loc[row_indexer,col_indexer] = value instead\n",
      "\n",
      "See the caveats in the documentation: http://pandas.pydata.org/pandas-docs/stable/indexing.html#indexing-view-versus-copy\n",
      "  This is separate from the ipykernel package so we can avoid doing imports until\n",
      "C:\\ProgramData\\Anaconda3\\lib\\site-packages\\linearmodels\\utility.py:454: MissingValueWarning: \n",
      "Inputs contain missing values. Dropping rows with missing observations.\n",
      "  warnings.warn(missing_value_warning_msg, MissingValueWarning)\n",
      "C:\\ProgramData\\Anaconda3\\lib\\site-packages\\linearmodels\\panel\\data.py:314: FutureWarning: .labels was deprecated in version 0.24.0. Use .codes instead.\n",
      "  return list(index.levels[0][index.labels[0]].unique())\n",
      "C:\\ProgramData\\Anaconda3\\lib\\site-packages\\linearmodels\\panel\\data.py:326: FutureWarning: .labels was deprecated in version 0.24.0. Use .codes instead.\n",
      "  return np.asarray(self._frame.index.labels[0])[:, None]\n",
      "C:\\ProgramData\\Anaconda3\\lib\\site-packages\\linearmodels\\panel\\data.py:338: FutureWarning: .labels was deprecated in version 0.24.0. Use .codes instead.\n",
      "  return np.asarray(self._frame.index.labels[1])[:, None]\n"
     ]
    }
   ],
   "source": [
    "# set up independents\n",
    "x = data_fmb['multi_mkt']\n",
    "x['constant'] = 1\n",
    "\n",
    "# run regressions\n",
    "reg = lm.FamaMacBeth(y.swaplevel(0,1),x.swaplevel(0,1)).fit()\n",
    "fmb_table.loc[(2,'est.'),column_labels[0:7]] = reg.params.values\n",
    "fmb_table.loc[(2,'est.'),'R$^2$'] = reg.rsquared\n",
    "fmb_table.loc[(2,'t-stat'),column_labels[0:7]] = reg.tstats.values\n",
    "reg = lm.FamaMacBeth(y.swaplevel(0,1),x.swaplevel(0,1)).fit(cov_type='kernel')\n",
    "fmb_table.loc[(2,'t-stat (HAC)'),column_labels[0:7]] = reg.tstats.values"
   ]
  },
  {
   "cell_type": "code",
   "execution_count": 131,
   "metadata": {},
   "outputs": [
    {
     "data": {
      "text/html": [
       "<div>\n",
       "<style scoped>\n",
       "    .dataframe tbody tr th:only-of-type {\n",
       "        vertical-align: middle;\n",
       "    }\n",
       "\n",
       "    .dataframe tbody tr th {\n",
       "        vertical-align: top;\n",
       "    }\n",
       "\n",
       "    .dataframe thead th {\n",
       "        text-align: right;\n",
       "    }\n",
       "</style>\n",
       "<table border=\"1\" class=\"dataframe\">\n",
       "  <thead>\n",
       "    <tr style=\"text-align: right;\">\n",
       "      <th></th>\n",
       "      <th></th>\n",
       "      <th>$\\beta_{r_i,\\mathbb{E}_M}$</th>\n",
       "      <th>$\\beta_{r_i,\\mathbb{V}_M}$</th>\n",
       "      <th>$\\beta_{r_i,\\mathbb{S}_M}$</th>\n",
       "      <th>$\\beta_{r_i,\\mathbb{K}_M}$</th>\n",
       "      <th>$\\beta_{r_i,\\mathbb{H}_M}$</th>\n",
       "      <th>$\\beta_{r_i,r_M}$</th>\n",
       "      <th>$\\alpha$</th>\n",
       "      <th>R$^2$</th>\n",
       "    </tr>\n",
       "  </thead>\n",
       "  <tbody>\n",
       "    <tr>\n",
       "      <th rowspan=\"3\" valign=\"top\">1</th>\n",
       "      <th>est.</th>\n",
       "      <td>-0.0000</td>\n",
       "      <td>0.0000</td>\n",
       "      <td>0.0053</td>\n",
       "      <td>-0.0163</td>\n",
       "      <td>-0.0084</td>\n",
       "      <td></td>\n",
       "      <td>0.0003</td>\n",
       "      <td>-0.0121</td>\n",
       "    </tr>\n",
       "    <tr>\n",
       "      <th>t-stat</th>\n",
       "      <td>-1.1719</td>\n",
       "      <td>0.2558</td>\n",
       "      <td>2.1362</td>\n",
       "      <td>-1.2667</td>\n",
       "      <td>-1.3274</td>\n",
       "      <td></td>\n",
       "      <td>6.3146</td>\n",
       "      <td></td>\n",
       "    </tr>\n",
       "    <tr>\n",
       "      <th>t-stat (robust)</th>\n",
       "      <td>-0.6950</td>\n",
       "      <td>0.1545</td>\n",
       "      <td>1.3636</td>\n",
       "      <td>-0.8602</td>\n",
       "      <td>-0.9510</td>\n",
       "      <td></td>\n",
       "      <td>5.5018</td>\n",
       "      <td></td>\n",
       "    </tr>\n",
       "    <tr>\n",
       "      <th rowspan=\"3\" valign=\"top\">2</th>\n",
       "      <th>est.</th>\n",
       "      <td>-0.0000</td>\n",
       "      <td>0.0000</td>\n",
       "      <td>0.0048</td>\n",
       "      <td>-0.0159</td>\n",
       "      <td>-0.0042</td>\n",
       "      <td>0.0001</td>\n",
       "      <td>0.0003</td>\n",
       "      <td>-0.0024</td>\n",
       "    </tr>\n",
       "    <tr>\n",
       "      <th>t-stat</th>\n",
       "      <td>-1.3455</td>\n",
       "      <td>0.6831</td>\n",
       "      <td>1.9735</td>\n",
       "      <td>-1.2690</td>\n",
       "      <td>-0.6885</td>\n",
       "      <td>0.8746</td>\n",
       "      <td>4.4335</td>\n",
       "      <td></td>\n",
       "    </tr>\n",
       "    <tr>\n",
       "      <th>t-stat (robust)</th>\n",
       "      <td>-0.7633</td>\n",
       "      <td>0.3993</td>\n",
       "      <td>1.2289</td>\n",
       "      <td>-0.8326</td>\n",
       "      <td>-0.4723</td>\n",
       "      <td>0.7742</td>\n",
       "      <td>3.6161</td>\n",
       "      <td></td>\n",
       "    </tr>\n",
       "  </tbody>\n",
       "</table>\n",
       "</div>"
      ],
      "text/plain": [
       "                   $\\beta_{r_i,\\mathbb{E}_M}$  $\\beta_{r_i,\\mathbb{V}_M}$  \\\n",
       "1 est.                                -0.0000                      0.0000   \n",
       "  t-stat                              -1.1719                      0.2558   \n",
       "  t-stat (robust)                     -0.6950                      0.1545   \n",
       "2 est.                                -0.0000                      0.0000   \n",
       "  t-stat                              -1.3455                      0.6831   \n",
       "  t-stat (robust)                     -0.7633                      0.3993   \n",
       "\n",
       "                   $\\beta_{r_i,\\mathbb{S}_M}$  $\\beta_{r_i,\\mathbb{K}_M}$  \\\n",
       "1 est.                                 0.0053                     -0.0163   \n",
       "  t-stat                               2.1362                     -1.2667   \n",
       "  t-stat (robust)                      1.3636                     -0.8602   \n",
       "2 est.                                 0.0048                     -0.0159   \n",
       "  t-stat                               1.9735                     -1.2690   \n",
       "  t-stat (robust)                      1.2289                     -0.8326   \n",
       "\n",
       "                   $\\beta_{r_i,\\mathbb{H}_M}$ $\\beta_{r_i,r_M}$  $\\alpha$  \\\n",
       "1 est.                                -0.0084                      0.0003   \n",
       "  t-stat                              -1.3274                      6.3146   \n",
       "  t-stat (robust)                     -0.9510                      5.5018   \n",
       "2 est.                                -0.0042            0.0001    0.0003   \n",
       "  t-stat                              -0.6885            0.8746    4.4335   \n",
       "  t-stat (robust)                     -0.4723            0.7742    3.6161   \n",
       "\n",
       "                    R$^2$  \n",
       "1 est.            -0.0121  \n",
       "  t-stat                   \n",
       "  t-stat (robust)          \n",
       "2 est.            -0.0024  \n",
       "  t-stat                   \n",
       "  t-stat (robust)          "
      ]
     },
     "execution_count": 131,
     "metadata": {},
     "output_type": "execute_result"
    }
   ],
   "source": [
    "fmb_table = fmb_table.replace(np.nan,'')\n",
    "\n",
    "calc.export_df_to_latex(fmb_table, 'fmb_table')\n",
    "\n",
    "fmb_table"
   ]
  },
  {
   "cell_type": "markdown",
   "metadata": {},
   "source": [
    "#### Univariate"
   ]
  },
  {
   "cell_type": "code",
   "execution_count": 132,
   "metadata": {},
   "outputs": [],
   "source": [
    "y = data_fmb[('data','return')]"
   ]
  },
  {
   "cell_type": "code",
   "execution_count": 133,
   "metadata": {},
   "outputs": [],
   "source": [
    "# set up output table\n",
    "column_labels = ['$\\\\beta_{\\mathbb{E}_i,\\mathbb{E}_M}$','$\\\\beta_{\\mathbb{V}_i,\\mathbb{V}_M}$','$\\\\beta_{\\mathbb{S}_i,\\mathbb{S}_M}$','$\\\\beta_{\\mathbb{K}_i,\\mathbb{K}_M}$','$\\\\beta_{\\mathbb{H}_i,\\mathbb{H}_M}$','$\\\\beta_{r_i,r_M}$','$\\\\alpha$','R$^2$']\n",
    "comom_table = pd.DataFrame(index=['est.','t-stat','t-stat (HAC)'], columns = column_labels)"
   ]
  },
  {
   "cell_type": "code",
   "execution_count": 134,
   "metadata": {},
   "outputs": [
    {
     "name": "stderr",
     "output_type": "stream",
     "text": [
      "C:\\ProgramData\\Anaconda3\\lib\\site-packages\\ipykernel_launcher.py:3: SettingWithCopyWarning: \n",
      "A value is trying to be set on a copy of a slice from a DataFrame.\n",
      "Try using .loc[row_indexer,col_indexer] = value instead\n",
      "\n",
      "See the caveats in the documentation: http://pandas.pydata.org/pandas-docs/stable/indexing.html#indexing-view-versus-copy\n",
      "  This is separate from the ipykernel package so we can avoid doing imports until\n",
      "C:\\ProgramData\\Anaconda3\\lib\\site-packages\\linearmodels\\utility.py:454: MissingValueWarning: \n",
      "Inputs contain missing values. Dropping rows with missing observations.\n",
      "  warnings.warn(missing_value_warning_msg, MissingValueWarning)\n",
      "C:\\ProgramData\\Anaconda3\\lib\\site-packages\\linearmodels\\panel\\data.py:314: FutureWarning: .labels was deprecated in version 0.24.0. Use .codes instead.\n",
      "  return list(index.levels[0][index.labels[0]].unique())\n",
      "C:\\ProgramData\\Anaconda3\\lib\\site-packages\\linearmodels\\panel\\data.py:326: FutureWarning: .labels was deprecated in version 0.24.0. Use .codes instead.\n",
      "  return np.asarray(self._frame.index.labels[0])[:, None]\n",
      "C:\\ProgramData\\Anaconda3\\lib\\site-packages\\linearmodels\\panel\\data.py:338: FutureWarning: .labels was deprecated in version 0.24.0. Use .codes instead.\n",
      "  return np.asarray(self._frame.index.labels[1])[:, None]\n"
     ]
    }
   ],
   "source": [
    "# set up independents\n",
    "x = data_fmb['uni']\n",
    "x['constant'] = 1\n",
    "\n",
    "# run regressions\n",
    "reg = lm.FamaMacBeth(y.swaplevel(0,1),x.swaplevel(0,1)).fit()\n",
    "comom_table.loc['est.',column_labels[0:7]] = reg.params.values\n",
    "comom_table.loc['est.','R$^2$'] = reg.rsquared\n",
    "comom_table.loc['t-stat',column_labels[0:7]] = reg.tstats.values\n",
    "reg = lm.FamaMacBeth(y.swaplevel(0,1),x.swaplevel(0,1)).fit(cov_type='kernel')\n",
    "comom_table.loc['t-stat (HAC)',column_labels[0:7]] = reg.tstats.values"
   ]
  },
  {
   "cell_type": "code",
   "execution_count": 135,
   "metadata": {},
   "outputs": [
    {
     "data": {
      "text/html": [
       "<div>\n",
       "<style scoped>\n",
       "    .dataframe tbody tr th:only-of-type {\n",
       "        vertical-align: middle;\n",
       "    }\n",
       "\n",
       "    .dataframe tbody tr th {\n",
       "        vertical-align: top;\n",
       "    }\n",
       "\n",
       "    .dataframe thead th {\n",
       "        text-align: right;\n",
       "    }\n",
       "</style>\n",
       "<table border=\"1\" class=\"dataframe\">\n",
       "  <thead>\n",
       "    <tr style=\"text-align: right;\">\n",
       "      <th></th>\n",
       "      <th>$\\beta_{\\mathbb{E}_i,\\mathbb{E}_M}$</th>\n",
       "      <th>$\\beta_{\\mathbb{V}_i,\\mathbb{V}_M}$</th>\n",
       "      <th>$\\beta_{\\mathbb{S}_i,\\mathbb{S}_M}$</th>\n",
       "      <th>$\\beta_{\\mathbb{K}_i,\\mathbb{K}_M}$</th>\n",
       "      <th>$\\beta_{\\mathbb{H}_i,\\mathbb{H}_M}$</th>\n",
       "      <th>$\\beta_{r_i,r_M}$</th>\n",
       "      <th>$\\alpha$</th>\n",
       "      <th>R$^2$</th>\n",
       "    </tr>\n",
       "  </thead>\n",
       "  <tbody>\n",
       "    <tr>\n",
       "      <th>est.</th>\n",
       "      <td>0.0000</td>\n",
       "      <td>-0.0000</td>\n",
       "      <td>0.0000</td>\n",
       "      <td>0.0000</td>\n",
       "      <td>-0.0002</td>\n",
       "      <td>0.0001</td>\n",
       "      <td>0.0003</td>\n",
       "      <td>-0.0000</td>\n",
       "    </tr>\n",
       "    <tr>\n",
       "      <th>t-stat</th>\n",
       "      <td>0.3121</td>\n",
       "      <td>-0.6419</td>\n",
       "      <td>0.0848</td>\n",
       "      <td>0.0077</td>\n",
       "      <td>-1.9837</td>\n",
       "      <td>0.8761</td>\n",
       "      <td>4.6669</td>\n",
       "      <td></td>\n",
       "    </tr>\n",
       "    <tr>\n",
       "      <th>t-stat (robust)</th>\n",
       "      <td>0.2937</td>\n",
       "      <td>-0.6254</td>\n",
       "      <td>0.0811</td>\n",
       "      <td>0.0071</td>\n",
       "      <td>-1.9233</td>\n",
       "      <td>0.9077</td>\n",
       "      <td>3.9954</td>\n",
       "      <td></td>\n",
       "    </tr>\n",
       "  </tbody>\n",
       "</table>\n",
       "</div>"
      ],
      "text/plain": [
       "                 $\\beta_{\\mathbb{E}_i,\\mathbb{E}_M}$  \\\n",
       "est.                                          0.0000   \n",
       "t-stat                                        0.3121   \n",
       "t-stat (robust)                               0.2937   \n",
       "\n",
       "                 $\\beta_{\\mathbb{V}_i,\\mathbb{V}_M}$  \\\n",
       "est.                                         -0.0000   \n",
       "t-stat                                       -0.6419   \n",
       "t-stat (robust)                              -0.6254   \n",
       "\n",
       "                 $\\beta_{\\mathbb{S}_i,\\mathbb{S}_M}$  \\\n",
       "est.                                          0.0000   \n",
       "t-stat                                        0.0848   \n",
       "t-stat (robust)                               0.0811   \n",
       "\n",
       "                 $\\beta_{\\mathbb{K}_i,\\mathbb{K}_M}$  \\\n",
       "est.                                          0.0000   \n",
       "t-stat                                        0.0077   \n",
       "t-stat (robust)                               0.0071   \n",
       "\n",
       "                 $\\beta_{\\mathbb{H}_i,\\mathbb{H}_M}$  $\\beta_{r_i,r_M}$  \\\n",
       "est.                                         -0.0002             0.0001   \n",
       "t-stat                                       -1.9837             0.8761   \n",
       "t-stat (robust)                              -1.9233             0.9077   \n",
       "\n",
       "                 $\\alpha$   R$^2$  \n",
       "est.               0.0003 -0.0000  \n",
       "t-stat             4.6669          \n",
       "t-stat (robust)    3.9954          "
      ]
     },
     "execution_count": 135,
     "metadata": {},
     "output_type": "execute_result"
    }
   ],
   "source": [
    "comom_table = comom_table.replace(np.nan,'')\n",
    "\n",
    "calc.export_df_to_latex(comom_table, 'comom_table')\n",
    "\n",
    "comom_table"
   ]
  }
 ],
 "metadata": {
  "kernelspec": {
   "display_name": "Python 3",
   "language": "python",
   "name": "python3"
  },
  "language_info": {
   "codemirror_mode": {
    "name": "ipython",
    "version": 3
   },
   "file_extension": ".py",
   "mimetype": "text/x-python",
   "name": "python",
   "nbconvert_exporter": "python",
   "pygments_lexer": "ipython3",
   "version": "3.7.0"
  }
 },
 "nbformat": 4,
 "nbformat_minor": 2
}
