{
 "cells": [
  {
   "cell_type": "markdown",
   "metadata": {},
   "source": [
    "# Monthly Cross-Section: Estimation"
   ]
  },
  {
   "cell_type": "markdown",
   "metadata": {},
   "source": [
    "## Imports"
   ]
  },
  {
   "cell_type": "code",
   "execution_count": 1,
   "metadata": {},
   "outputs": [],
   "source": [
    "%load_ext autoreload\n",
    "%autoreload 2"
   ]
  },
  {
   "cell_type": "code",
   "execution_count": 2,
   "metadata": {},
   "outputs": [],
   "source": [
    "import numpy as np\n",
    "import scipy as sp\n",
    "import pandas as pd\n",
    "\n",
    "import warnings\n",
    "import tqdm\n",
    "\n",
    "import pandas_datareader.data as web\n",
    "import datetime as dt\n",
    "\n",
    "import statsmodels.api as sm\n",
    "import linearmodels as lm\n",
    "import arch as am\n",
    "\n",
    "import matplotlib.pyplot as plt\n",
    "import seaborn as sns\n",
    "\n",
    "import mypack.data as data\n",
    "import mypack.calc as calc\n",
    "import mypack.plot as plot\n",
    "import mypack.clas as clas"
   ]
  },
  {
   "cell_type": "code",
   "execution_count": 3,
   "metadata": {},
   "outputs": [],
   "source": [
    "pd.set_option('display.float_format', lambda x: '%.4f' % x) #sets decimals to be displayed"
   ]
  },
  {
   "cell_type": "code",
   "execution_count": 4,
   "metadata": {},
   "outputs": [],
   "source": [
    "sns.set()\n",
    "sns.set(rc={'figure.figsize': (17, 6)})"
   ]
  },
  {
   "cell_type": "code",
   "execution_count": 5,
   "metadata": {},
   "outputs": [],
   "source": [
    "%matplotlib inline"
   ]
  },
  {
   "cell_type": "markdown",
   "metadata": {},
   "source": [
    "## Data"
   ]
  },
  {
   "cell_type": "code",
   "execution_count": 6,
   "metadata": {},
   "outputs": [],
   "source": [
    "industries_monthly = pd.read_pickle('df_industries_monthly.pkl')\n",
    "#industries_daily = pd.read_pickle('df_industries_daily.pkl')"
   ]
  },
  {
   "cell_type": "markdown",
   "metadata": {},
   "source": [
    "## Estimation\n",
    "### Setup"
   ]
  },
  {
   "cell_type": "code",
   "execution_count": 7,
   "metadata": {},
   "outputs": [],
   "source": [
    "df_xs_estimates = pd.DataFrame(industries_monthly.stack().rename(('data','return')))"
   ]
  },
  {
   "cell_type": "code",
   "execution_count": 8,
   "metadata": {},
   "outputs": [],
   "source": [
    "#df_xs_estimates = pd.read_pickle('df_xs_estimates_monthly.pkl')"
   ]
  },
  {
   "cell_type": "markdown",
   "metadata": {},
   "source": [
    "### Define outputs"
   ]
  },
  {
   "cell_type": "code",
   "execution_count": 9,
   "metadata": {},
   "outputs": [],
   "source": [
    "def get_moment_vector(y):\n",
    "    '''\n",
    "    This function defines a vector that contains the first four moments of y\n",
    "    '''\n",
    "    moment_vector = \\\n",
    "        pd.Series([y.mean(), y.std(), y.var(), y.skew(),y.kurtosis()], index=['mean','std','var','skew','exkurt'])\n",
    "    return moment_vector"
   ]
  },
  {
   "cell_type": "code",
   "execution_count": 11,
   "metadata": {},
   "outputs": [],
   "source": [
    "def get_hmm_model_output(hmm_model): # TO DO: function is broken for k>2, transition probabilities wrong\n",
    "    '''\n",
    "    This function defines a vector with estimates from a hidden markov model object\n",
    "    '''\n",
    "    #sort by volatility\n",
    "    sorted_indices = hmm_model.params.loc[[i[0:6]=='sigma2' for i in hmm_model.params.index]].sort_values().index\n",
    "    sort_k = [int(i[7]) for i in sorted_indices]\n",
    "    k = len(sort_k)\n",
    "    n = int(len(hmm_model.params)/k)\n",
    "    list_1 = [i*n for i in range(n) for j in range(n)]\n",
    "    list_2 = sort_k*n\n",
    "    sort_params = [i+j for i,j in zip(list_1,list_2)]\n",
    "    \n",
    "    model_output = \\\n",
    "        pd.Series([hmm_model.mle_retvals['converged'],algo,hmm_model.nobs,hmm_model.aic,hmm_model.bic,hmm_model.llf],index=['convergence','algorithm','T','aic','bic','likelihood'])\\\n",
    "            .append(pd.Series(hmm_model.params.values[sort_params],index=['p00','p10','sigma2_0','sigma2_1']))\\\n",
    "            .append(pd.Series(hmm_model.bse.values[sort_params],index=['p00_se','p10_se','sigma2_0_se','sigma2_1_se']))\\\n",
    "            .append(pd.Series(hmm_model.cov_params().loc['sigma2[0]','sigma2[1]'],index=['sigma_cov']))\\\n",
    "            .append(pd.Series(hmm_model.cov_params().loc['p[0->0]','p[1->0]'],index=['prob_cov']))\\\n",
    "            .append(pd.Series(hmm_model.smoothed_marginal_probabilities.iloc[-1,:].values[sort_k],index=['smooth_prob_0','smooth_prob_1']))\\\n",
    "            .append(pd.Series(hmm_model.filtered_marginal_probabilities.iloc[-1,:].values[sort_k],index=['filt_prob_0','filt_prob_1']))\\\n",
    "            .append(pd.Series(hmm_model.smoothed_marginal_probabilities.mean().values[sort_k],index=['mean_smooth_prob_0','mean_smooth_prob_1']))\\\n",
    "            .append(pd.Series(hmm_model.filtered_marginal_probabilities.mean().values[sort_k],index=['mean_filt_prob_0','mean_filt_prob_1']))\\\n",
    "            .append(pd.Series(abs(hmm_model.smoothed_marginal_probabilities.iloc[-1,:]-hmm_model.smoothed_marginal_probabilities.iloc[-2,:]).mean(),index=['smooth_prob_innov']))\\\n",
    "            .append(pd.Series(abs(hmm_model.filtered_marginal_probabilities.iloc[-1,:]-hmm_model.filtered_marginal_probabilities.iloc[-2,:]).mean(),index=['filt_prob_innov']))\n",
    "    return model_output"
   ]
  },
  {
   "cell_type": "code",
   "execution_count": 12,
   "metadata": {},
   "outputs": [],
   "source": [
    "def get_state_probabilities(hmm_model):\n",
    "    '''\n",
    "    This is to extract the in-sample state probabilities\n",
    "    '''\n",
    "    #sort by volatility\n",
    "    sorted_indices = hmm_model.params.loc[[i[0:6]=='sigma2' for i in hmm_model.params.index]].sort_values().index\n",
    "    sort_k = [int(i[7]) for i in sorted_indices]\n",
    "    \n",
    "    state_probs = \\\n",
    "        pd.DataFrame(hmm_model.smoothed_marginal_probabilities.values[:,sort_k], index=hmm_model.smoothed_marginal_probabilities.index, columns=['smooth_is_0','smooth_is_1'])\\\n",
    "            .join(pd.DataFrame(hmm_model.filtered_marginal_probabilities.values[:,sort_k], index=hmm_model.smoothed_marginal_probabilities.index, columns=['filt_is_0','filt_is_1']))\n",
    "    return state_probs"
   ]
  },
  {
   "cell_type": "markdown",
   "metadata": {},
   "source": [
    "### Full Sample\n",
    "#### Names"
   ]
  },
  {
   "cell_type": "code",
   "execution_count": 13,
   "metadata": {},
   "outputs": [],
   "source": [
    "hmm_name = 'HMM_full'\n",
    "moment_name = 'moment_full'"
   ]
  },
  {
   "cell_type": "code",
   "execution_count": 14,
   "metadata": {},
   "outputs": [],
   "source": [
    "algos = ['powell','ncg','bfgs','cg','newton']"
   ]
  },
  {
   "cell_type": "markdown",
   "metadata": {},
   "source": [
    "#### Run"
   ]
  },
  {
   "cell_type": "code",
   "execution_count": 15,
   "metadata": {},
   "outputs": [
    {
     "name": "stderr",
     "output_type": "stream",
     "text": [
      "49it [00:55,  1.05s/it]\n"
     ]
    },
    {
     "name": "stdout",
     "output_type": "stream",
     "text": [
      "Wall time: 55.3 s\n"
     ]
    }
   ],
   "source": [
    "%%time\n",
    "count = 0\n",
    "full_sample_estimates = pd.DataFrame([])\n",
    "\n",
    "for name,data in tqdm.tqdm(industries_monthly.items()):\n",
    "    \n",
    "    # calculate sample moments\n",
    "    moment_vector = get_moment_vector(data)\n",
    "    \n",
    "    # treat outliers\n",
    "    y = pd.Series(data.values,index=data.index).copy()\n",
    "    y = y - y.mean()\n",
    "    s = y.std()\n",
    "    m,s = moment_vector[['mean','std']]\n",
    "    #y[y<m-2.325*s] = m-2.325*s + 0.1*(y[y<m-2.325*s]-(m-2.325*s))\n",
    "    #y[y>m+2.325*s] = m+2.325*s + 0.1*(y[y>m-2.325*s]-(m+2.325*s))\n",
    "    #y = calc.shrink_outliers(y,alpha=1.96,lamb=1)\n",
    "    \n",
    "    # set initial guesses for parameters\n",
    "    init = [0.9,0.1] + [(2*s)**2] + [(0.5*s)**2]\n",
    "    \n",
    "    # estimate model\n",
    "    for algo in algos:\n",
    "        with warnings.catch_warnings():\n",
    "            warnings.filterwarnings(action=\"ignore\")\n",
    "            hmm_model = sm.tsa.MarkovRegression(y, k_regimes=2, trend='nc', exog=None, switching_trend=False, switching_exog=False, switching_variance=True, missing='drop')\\\n",
    "                    .fit(cov_type='robust', start_params=init, method=algo, disp=False, search_reps=20)\n",
    "        if (not any(hmm_model.params.isna())):\n",
    "            break\n",
    "            \n",
    "    # outputs\n",
    "    model_output = get_hmm_model_output(hmm_model)\n",
    "    state_probs = get_state_probabilities(hmm_model)\n",
    "    \n",
    "    # safe estimates\n",
    "    if count == 0 & False:\n",
    "        df_xs_estimates = df_xs_estimates\\\n",
    "            .join(pd.DataFrame(np.nan, columns=pd.MultiIndex.from_product([[moment_name], moment_vector.index]), index=df_xs_estimates.index))\\\n",
    "            .join(pd.DataFrame(np.nan, columns=pd.MultiIndex.from_product([[hmm_name], model_output.index]), index=df_xs_estimates.index))\\\n",
    "            .join(pd.DataFrame(np.nan, columns=pd.MultiIndex.from_product([[hmm_name], state_probs.columns]), index=df_xs_estimates.index))\n",
    "        \n",
    "    full_sample_estimates = full_sample_estimates.join(model_output.rename(name),how='outer')\n",
    "    \n",
    "    selected_rows = \\\n",
    "        (df_xs_estimates.index.get_level_values('Industry')==name)\\\n",
    "        &np.array([x in state_probs.index for x in df_xs_estimates.index.get_level_values('Date')])\n",
    "    df_xs_estimates.loc[selected_rows,(moment_name,moment_vector.index)] = moment_vector.values\n",
    "    df_xs_estimates.loc[selected_rows,(hmm_name,model_output.index)] = model_output.values\n",
    "    df_xs_estimates.loc[selected_rows,(hmm_name,state_probs.columns)] = state_probs.values\n",
    "    \n",
    "    count += 1\n",
    "    \n",
    "df_xs_estimates.to_pickle('df_xs_estimates_monthly_VOLA.pkl')"
   ]
  },
  {
   "cell_type": "code",
   "execution_count": 16,
   "metadata": {},
   "outputs": [
    {
     "data": {
      "text/plain": [
       "<matplotlib.axes._subplots.AxesSubplot at 0x282e284f828>"
      ]
     },
     "execution_count": 16,
     "metadata": {},
     "output_type": "execute_result"
    },
    {
     "data": {
      "image/png": "[encoded data removed]",
      "text/plain": [
       "<Figure size 1224x360 with 1 Axes>"
      ]
     },
     "metadata": {
      "needs_background": "light"
     },
     "output_type": "display_data"
    }
   ],
   "source": [
    "get_state_probabilities(hmm_model).iloc[:,[0,2]].plot(figsize=[17,5])"
   ]
  },
  {
   "cell_type": "markdown",
   "metadata": {},
   "source": [
    "### Expanding Window\n",
    "#### Names"
   ]
  },
  {
   "cell_type": "code",
   "execution_count": 17,
   "metadata": {},
   "outputs": [],
   "source": [
    "win_yrs = 30 #length of first window"
   ]
  },
  {
   "cell_type": "code",
   "execution_count": 18,
   "metadata": {},
   "outputs": [],
   "source": [
    "hmm_name = 'HMM_expand'\n",
    "moment_name = 'moment_expand'"
   ]
  },
  {
   "cell_type": "code",
   "execution_count": 19,
   "metadata": {},
   "outputs": [],
   "source": [
    "algos = ['powell','ncg','bfgs','cg','newton']"
   ]
  },
  {
   "cell_type": "markdown",
   "metadata": {},
   "source": [
    "#### Run"
   ]
  },
  {
   "cell_type": "code",
   "execution_count": 20,
   "metadata": {},
   "outputs": [],
   "source": [
    "df_xs_estimates = pd.read_pickle('df_xs_estimates_monthly_VOLA.pkl')"
   ]
  },
  {
   "cell_type": "code",
   "execution_count": 21,
   "metadata": {},
   "outputs": [
    {
     "name": "stderr",
     "output_type": "stream",
     "text": [
      "100%|████████████████████████████████████████████████████████████████████████████████| 539/539 [01:58<00:00,  3.50it/s]\n"
     ]
    },
    {
     "name": "stdout",
     "output_type": "stream",
     "text": [
      "Agric : 1 / 49 , 0 corrections,  0 switches\n"
     ]
    },
    {
     "name": "stderr",
     "output_type": "stream",
     "text": [
      "100%|████████████████████████████████████████████████████████████████████████████████| 539/539 [02:01<00:00,  4.21it/s]\n"
     ]
    },
    {
     "name": "stdout",
     "output_type": "stream",
     "text": [
      "Food  : 2 / 49 , 0 corrections,  0 switches\n"
     ]
    },
    {
     "name": "stderr",
     "output_type": "stream",
     "text": [
      "100%|████████████████████████████████████████████████████████████████████████████████| 317/317 [01:12<00:00,  3.61it/s]\n"
     ]
    },
    {
     "name": "stdout",
     "output_type": "stream",
     "text": [
      "Soda  : 3 / 49 , 30 corrections,  0 switches\n"
     ]
    },
    {
     "name": "stderr",
     "output_type": "stream",
     "text": [
      "100%|████████████████████████████████████████████████████████████████████████████████| 539/539 [02:06<00:00,  4.44it/s]\n"
     ]
    },
    {
     "name": "stdout",
     "output_type": "stream",
     "text": [
      "Beer  : 4 / 49 , 100 corrections,  0 switches\n"
     ]
    },
    {
     "name": "stderr",
     "output_type": "stream",
     "text": [
      "100%|████████████████████████████████████████████████████████████████████████████████| 539/539 [02:02<00:00,  4.46it/s]\n"
     ]
    },
    {
     "name": "stdout",
     "output_type": "stream",
     "text": [
      "Smoke : 5 / 49 , 19 corrections,  0 switches\n"
     ]
    },
    {
     "name": "stderr",
     "output_type": "stream",
     "text": [
      "100%|████████████████████████████████████████████████████████████████████████████████| 539/539 [02:16<00:00,  3.32it/s]\n"
     ]
    },
    {
     "name": "stdout",
     "output_type": "stream",
     "text": [
      "Toys  : 6 / 49 , 172 corrections,  0 switches\n"
     ]
    },
    {
     "name": "stderr",
     "output_type": "stream",
     "text": [
      "100%|████████████████████████████████████████████████████████████████████████████████| 539/539 [02:11<00:00,  4.08it/s]\n"
     ]
    },
    {
     "name": "stdout",
     "output_type": "stream",
     "text": [
      "Fun   : 7 / 49 , 0 corrections,  0 switches\n"
     ]
    },
    {
     "name": "stderr",
     "output_type": "stream",
     "text": [
      "100%|████████████████████████████████████████████████████████████████████████████████| 539/539 [01:56<00:00,  4.20it/s]\n"
     ]
    },
    {
     "name": "stdout",
     "output_type": "stream",
     "text": [
      "Books : 8 / 49 , 0 corrections,  0 switches\n"
     ]
    },
    {
     "name": "stderr",
     "output_type": "stream",
     "text": [
      "100%|████████████████████████████████████████████████████████████████████████████████| 539/539 [01:59<00:00,  3.51it/s]\n"
     ]
    },
    {
     "name": "stdout",
     "output_type": "stream",
     "text": [
      "Hshld : 9 / 49 , 246 corrections,  0 switches\n"
     ]
    },
    {
     "name": "stderr",
     "output_type": "stream",
     "text": [
      "100%|████████████████████████████████████████████████████████████████████████████████| 539/539 [01:58<00:00,  3.98it/s]\n"
     ]
    },
    {
     "name": "stdout",
     "output_type": "stream",
     "text": [
      "Clths : 10 / 49 , 0 corrections,  0 switches\n"
     ]
    },
    {
     "name": "stderr",
     "output_type": "stream",
     "text": [
      "100%|████████████████████████████████████████████████████████████████████████████████| 245/245 [00:47<00:00,  4.79it/s]\n"
     ]
    },
    {
     "name": "stdout",
     "output_type": "stream",
     "text": [
      "Hlth  : 11 / 49 , 0 corrections,  0 switches\n"
     ]
    },
    {
     "name": "stderr",
     "output_type": "stream",
     "text": [
      "100%|████████████████████████████████████████████████████████████████████████████████| 539/539 [02:03<00:00,  4.52it/s]\n"
     ]
    },
    {
     "name": "stdout",
     "output_type": "stream",
     "text": [
      "MedEq : 12 / 49 , 0 corrections,  0 switches\n"
     ]
    },
    {
     "name": "stderr",
     "output_type": "stream",
     "text": [
      "100%|████████████████████████████████████████████████████████████████████████████████| 539/539 [02:20<00:00,  4.46it/s]\n"
     ]
    },
    {
     "name": "stdout",
     "output_type": "stream",
     "text": [
      "Drugs : 13 / 49 , 0 corrections,  0 switches\n"
     ]
    },
    {
     "name": "stderr",
     "output_type": "stream",
     "text": [
      "100%|████████████████████████████████████████████████████████████████████████████████| 539/539 [02:07<00:00,  4.24it/s]\n"
     ]
    },
    {
     "name": "stdout",
     "output_type": "stream",
     "text": [
      "Chems : 14 / 49 , 150 corrections,  0 switches\n"
     ]
    },
    {
     "name": "stderr",
     "output_type": "stream",
     "text": [
      "100%|████████████████████████████████████████████████████████████████████████████████| 539/539 [02:03<00:00,  4.25it/s]\n"
     ]
    },
    {
     "name": "stdout",
     "output_type": "stream",
     "text": [
      "Rubbr : 15 / 49 , 16 corrections,  0 switches\n"
     ]
    },
    {
     "name": "stderr",
     "output_type": "stream",
     "text": [
      "100%|████████████████████████████████████████████████████████████████████████████████| 539/539 [02:07<00:00,  4.38it/s]\n"
     ]
    },
    {
     "name": "stdout",
     "output_type": "stream",
     "text": [
      "Txtls : 16 / 49 , 65 corrections,  0 switches\n"
     ]
    },
    {
     "name": "stderr",
     "output_type": "stream",
     "text": [
      "100%|████████████████████████████████████████████████████████████████████████████████| 539/539 [01:54<00:00,  3.98it/s]\n"
     ]
    },
    {
     "name": "stdout",
     "output_type": "stream",
     "text": [
      "BldMt : 17 / 49 , 0 corrections,  0 switches\n"
     ]
    },
    {
     "name": "stderr",
     "output_type": "stream",
     "text": [
      "100%|████████████████████████████████████████████████████████████████████████████████| 539/539 [02:07<00:00,  4.34it/s]\n"
     ]
    },
    {
     "name": "stdout",
     "output_type": "stream",
     "text": [
      "Cnstr : 18 / 49 , 0 corrections,  0 switches\n"
     ]
    },
    {
     "name": "stderr",
     "output_type": "stream",
     "text": [
      "100%|████████████████████████████████████████████████████████████████████████████████| 539/539 [02:34<00:00,  4.29it/s]\n"
     ]
    },
    {
     "name": "stdout",
     "output_type": "stream",
     "text": [
      "Steel : 19 / 49 , 501 corrections,  1 switches\n"
     ]
    },
    {
     "name": "stderr",
     "output_type": "stream",
     "text": [
      "100%|████████████████████████████████████████████████████████████████████████████████| 317/317 [01:00<00:00,  4.79it/s]\n"
     ]
    },
    {
     "name": "stdout",
     "output_type": "stream",
     "text": [
      "FabPr : 20 / 49 , 0 corrections,  0 switches\n"
     ]
    },
    {
     "name": "stderr",
     "output_type": "stream",
     "text": [
      "100%|████████████████████████████████████████████████████████████████████████████████| 539/539 [02:27<00:00,  3.70it/s]\n"
     ]
    },
    {
     "name": "stdout",
     "output_type": "stream",
     "text": [
      "Mach  : 21 / 49 , 166 corrections,  0 switches\n"
     ]
    },
    {
     "name": "stderr",
     "output_type": "stream",
     "text": [
      "100%|████████████████████████████████████████████████████████████████████████████████| 539/539 [02:32<00:00,  3.84it/s]\n"
     ]
    },
    {
     "name": "stdout",
     "output_type": "stream",
     "text": [
      "ElcEq : 22 / 49 , 355 corrections,  0 switches\n"
     ]
    },
    {
     "name": "stderr",
     "output_type": "stream",
     "text": [
      "100%|████████████████████████████████████████████████████████████████████████████████| 539/539 [02:19<00:00,  4.52it/s]\n"
     ]
    },
    {
     "name": "stdout",
     "output_type": "stream",
     "text": [
      "Autos : 23 / 49 , 122 corrections,  0 switches\n"
     ]
    },
    {
     "name": "stderr",
     "output_type": "stream",
     "text": [
      "100%|████████████████████████████████████████████████████████████████████████████████| 539/539 [02:07<00:00,  4.16it/s]\n"
     ]
    },
    {
     "name": "stdout",
     "output_type": "stream",
     "text": [
      "Aero  : 24 / 49 , 3 corrections,  0 switches\n"
     ]
    },
    {
     "name": "stderr",
     "output_type": "stream",
     "text": [
      "100%|████████████████████████████████████████████████████████████████████████████████| 539/539 [02:03<00:00,  3.74it/s]\n"
     ]
    },
    {
     "name": "stdout",
     "output_type": "stream",
     "text": [
      "Ships : 25 / 49 , 0 corrections,  0 switches\n"
     ]
    },
    {
     "name": "stderr",
     "output_type": "stream",
     "text": [
      "100%|████████████████████████████████████████████████████████████████████████████████| 317/317 [01:09<00:00,  4.98it/s]\n"
     ]
    },
    {
     "name": "stdout",
     "output_type": "stream",
     "text": [
      "Guns  : 26 / 49 , 46 corrections,  0 switches\n"
     ]
    },
    {
     "name": "stderr",
     "output_type": "stream",
     "text": [
      "100%|████████████████████████████████████████████████████████████████████████████████| 317/317 [01:11<00:00,  5.33it/s]\n"
     ]
    },
    {
     "name": "stdout",
     "output_type": "stream",
     "text": [
      "Gold  : 27 / 49 , 0 corrections,  0 switches\n"
     ]
    },
    {
     "name": "stderr",
     "output_type": "stream",
     "text": [
      "100%|████████████████████████████████████████████████████████████████████████████████| 539/539 [02:06<00:00,  4.78it/s]\n"
     ]
    },
    {
     "name": "stdout",
     "output_type": "stream",
     "text": [
      "Mines : 28 / 49 , 152 corrections,  0 switches\n"
     ]
    },
    {
     "name": "stderr",
     "output_type": "stream",
     "text": [
      "100%|████████████████████████████████████████████████████████████████████████████████| 539/539 [02:06<00:00,  4.23it/s]\n"
     ]
    },
    {
     "name": "stdout",
     "output_type": "stream",
     "text": [
      "Coal  : 29 / 49 , 467 corrections,  0 switches\n"
     ]
    },
    {
     "name": "stderr",
     "output_type": "stream",
     "text": [
      "100%|████████████████████████████████████████████████████████████████████████████████| 539/539 [01:54<00:00,  4.53it/s]\n"
     ]
    },
    {
     "name": "stdout",
     "output_type": "stream",
     "text": [
      "Oil   : 30 / 49 , 62 corrections,  0 switches\n"
     ]
    },
    {
     "name": "stderr",
     "output_type": "stream",
     "text": [
      "100%|████████████████████████████████████████████████████████████████████████████████| 539/539 [01:56<00:00,  3.52it/s]\n"
     ]
    },
    {
     "name": "stdout",
     "output_type": "stream",
     "text": [
      "Util  : 31 / 49 , 0 corrections,  0 switches\n"
     ]
    },
    {
     "name": "stderr",
     "output_type": "stream",
     "text": [
      "100%|████████████████████████████████████████████████████████████████████████████████| 539/539 [01:58<00:00,  3.55it/s]\n"
     ]
    },
    {
     "name": "stdout",
     "output_type": "stream",
     "text": [
      "Telcm : 32 / 49 , 0 corrections,  0 switches\n"
     ]
    },
    {
     "name": "stderr",
     "output_type": "stream",
     "text": [
      "100%|████████████████████████████████████████████████████████████████████████████████| 539/539 [02:32<00:00,  3.52it/s]\n"
     ]
    },
    {
     "name": "stdout",
     "output_type": "stream",
     "text": [
      "PerSv : 33 / 49 , 0 corrections,  0 switches\n"
     ]
    },
    {
     "name": "stderr",
     "output_type": "stream",
     "text": [
      "100%|████████████████████████████████████████████████████████████████████████████████| 539/539 [02:21<00:00,  2.73it/s]\n"
     ]
    },
    {
     "name": "stdout",
     "output_type": "stream",
     "text": [
      "BusSv : 34 / 49 , 315 corrections,  0 switches\n"
     ]
    },
    {
     "name": "stderr",
     "output_type": "stream",
     "text": [
      "100%|████████████████████████████████████████████████████████████████████████████████| 539/539 [02:28<00:00,  3.64it/s]\n"
     ]
    },
    {
     "name": "stdout",
     "output_type": "stream",
     "text": [
      "Hardw : 35 / 49 , 67 corrections,  0 switches\n"
     ]
    },
    {
     "name": "stderr",
     "output_type": "stream",
     "text": [
      "100%|████████████████████████████████████████████████████████████████████████████████| 293/293 [01:14<00:00,  4.12it/s]\n"
     ]
    },
    {
     "name": "stdout",
     "output_type": "stream",
     "text": [
      "Softw : 36 / 49 , 0 corrections,  0 switches\n"
     ]
    },
    {
     "name": "stderr",
     "output_type": "stream",
     "text": [
      "100%|████████████████████████████████████████████████████████████████████████████████| 539/539 [02:29<00:00,  3.59it/s]\n"
     ]
    },
    {
     "name": "stdout",
     "output_type": "stream",
     "text": [
      "Chips : 37 / 49 , 229 corrections,  0 switches\n"
     ]
    },
    {
     "name": "stderr",
     "output_type": "stream",
     "text": [
      "100%|████████████████████████████████████████████████████████████████████████████████| 539/539 [02:15<00:00,  3.75it/s]\n"
     ]
    },
    {
     "name": "stdout",
     "output_type": "stream",
     "text": [
      "LabEq : 38 / 49 , 0 corrections,  0 switches\n"
     ]
    },
    {
     "name": "stderr",
     "output_type": "stream",
     "text": [
      "100%|████████████████████████████████████████████████████████████████████████████████| 539/539 [02:30<00:00,  3.84it/s]\n"
     ]
    },
    {
     "name": "stdout",
     "output_type": "stream",
     "text": [
      "Paper : 39 / 49 , 265 corrections,  0 switches\n"
     ]
    },
    {
     "name": "stderr",
     "output_type": "stream",
     "text": [
      "100%|████████████████████████████████████████████████████████████████████████████████| 539/539 [02:25<00:00,  3.38it/s]\n"
     ]
    },
    {
     "name": "stdout",
     "output_type": "stream",
     "text": [
      "Boxes : 40 / 49 , 234 corrections,  0 switches\n"
     ]
    },
    {
     "name": "stderr",
     "output_type": "stream",
     "text": [
      "100%|████████████████████████████████████████████████████████████████████████████████| 539/539 [02:25<00:00,  3.00it/s]\n"
     ]
    },
    {
     "name": "stdout",
     "output_type": "stream",
     "text": [
      "Trans : 41 / 49 , 0 corrections,  0 switches\n"
     ]
    },
    {
     "name": "stderr",
     "output_type": "stream",
     "text": [
      "100%|████████████████████████████████████████████████████████████████████████████████| 539/539 [02:14<00:00,  3.83it/s]\n"
     ]
    },
    {
     "name": "stdout",
     "output_type": "stream",
     "text": [
      "Whlsl : 42 / 49 , 0 corrections,  0 switches\n"
     ]
    },
    {
     "name": "stderr",
     "output_type": "stream",
     "text": [
      "100%|████████████████████████████████████████████████████████████████████████████████| 539/539 [02:16<00:00,  3.84it/s]\n"
     ]
    },
    {
     "name": "stdout",
     "output_type": "stream",
     "text": [
      "Rtail : 43 / 49 , 268 corrections,  0 switches\n"
     ]
    },
    {
     "name": "stderr",
     "output_type": "stream",
     "text": [
      "100%|████████████████████████████████████████████████████████████████████████████████| 539/539 [02:13<00:00,  3.72it/s]\n"
     ]
    },
    {
     "name": "stdout",
     "output_type": "stream",
     "text": [
      "Meals : 44 / 49 , 0 corrections,  0 switches\n"
     ]
    },
    {
     "name": "stderr",
     "output_type": "stream",
     "text": [
      "100%|████████████████████████████████████████████████████████████████████████████████| 539/539 [02:16<00:00,  3.55it/s]\n"
     ]
    },
    {
     "name": "stdout",
     "output_type": "stream",
     "text": [
      "Banks : 45 / 49 , 0 corrections,  0 switches\n"
     ]
    },
    {
     "name": "stderr",
     "output_type": "stream",
     "text": [
      "100%|████████████████████████████████████████████████████████████████████████████████| 539/539 [02:18<00:00,  3.77it/s]\n"
     ]
    },
    {
     "name": "stdout",
     "output_type": "stream",
     "text": [
      "Insur : 46 / 49 , 0 corrections,  0 switches\n"
     ]
    },
    {
     "name": "stderr",
     "output_type": "stream",
     "text": [
      "100%|████████████████████████████████████████████████████████████████████████████████| 539/539 [02:43<00:00,  2.69it/s]\n"
     ]
    },
    {
     "name": "stdout",
     "output_type": "stream",
     "text": [
      "RlEst : 47 / 49 , 0 corrections,  0 switches\n"
     ]
    },
    {
     "name": "stderr",
     "output_type": "stream",
     "text": [
      "100%|████████████████████████████████████████████████████████████████████████████████| 539/539 [02:38<00:00,  3.65it/s]\n"
     ]
    },
    {
     "name": "stdout",
     "output_type": "stream",
     "text": [
      "Fin   : 48 / 49 , 0 corrections,  0 switches\n"
     ]
    },
    {
     "name": "stderr",
     "output_type": "stream",
     "text": [
      "100%|████████████████████████████████████████████████████████████████████████████████| 539/539 [02:31<00:00,  3.31it/s]\n"
     ]
    },
    {
     "name": "stdout",
     "output_type": "stream",
     "text": [
      "Other : 49 / 49 , 175 corrections,  0 switches\n",
      "Wall time: 1h 42min 56s\n"
     ]
    }
   ],
   "source": [
    "%%time\n",
    "start = 0\n",
    "count = start\n",
    "\n",
    "#for name,data in industries_monthly.iloc[:,start:].items():\n",
    "for name,data in industries_monthly.iloc[:,:].items():\n",
    "    \n",
    "    # find dates to optimise\n",
    "    data = data[data.notna()]\n",
    "    opt_dates = data.index[data.index>data.index[0].replace(year=data.index[0].year+win_yrs)]\n",
    "    \n",
    "    correction_count = 0\n",
    "    switch_count = 0\n",
    "    for iDate in tqdm.tqdm(opt_dates):\n",
    "        \n",
    "        # select data\n",
    "        select_window = data.index[data.index<=iDate]\n",
    "        y = data.loc[select_window].copy()\n",
    "        y = y - y.mean()\n",
    "        \n",
    "        # calculate sample moments\n",
    "        moment_vector = get_moment_vector(y)\n",
    "        \n",
    "        # treat outliers\n",
    "        #y = calc.shrink_outliers(y, alpha=1.96, lamb=1) #1.645\n",
    "        \n",
    "        # set initial guesses for parameters\n",
    "        s = y.std()\n",
    "        win_init = [0.9,0.1] + [(2*s)**2] + [(0.5*s)**2]\n",
    "        \n",
    "        if iDate == opt_dates[0]:\n",
    "            init = win_init\n",
    "        else:\n",
    "            if  all(hmm_model.params.notna()):\n",
    "                init = hmm_model.params.values\n",
    "            else:\n",
    "                init = win_init\n",
    "            \n",
    "            # move initial transition probabilities to reasonable levels\n",
    "            if (min(init[0],1-init[0])<0.01) | (min(init[1],1-init[1])<0.01):\n",
    "                init = 0.9*init + 0.1*np.asarray(win_init)\n",
    "                correction_count += 1\n",
    "        \n",
    "        # estimate model\n",
    "        for algo in algos:\n",
    "            with warnings.catch_warnings():\n",
    "                warnings.filterwarnings(action=\"ignore\")\n",
    "                hmm_model = sm.tsa.MarkovRegression(y, k_regimes=2, exog=None, trend='nc', switching_trend=False, switching_exog=False, switching_variance=True, missing='drop')\\\n",
    "                    .fit(cov_type='robust', start_params=init, method=algo, disp=False, search_reps=0)\n",
    "            if (not any(hmm_model.params.isna())):\n",
    "                break\n",
    "                \n",
    "        if hmm_model.params[2] < hmm_model.params[3]:\n",
    "            switch_count += 1\n",
    "        \n",
    "        # outputs\n",
    "        model_output = get_hmm_model_output(hmm_model)\n",
    "        \n",
    "        # safe estimates\n",
    "        if (count == 0) & (iDate == opt_dates[0]) & True:\n",
    "            df_xs_estimates = df_xs_estimates\\\n",
    "                .join(pd.DataFrame(np.nan, columns=pd.MultiIndex.from_product([[moment_name], moment_vector.index]), index=df_xs_estimates.index))\\\n",
    "                .join(pd.DataFrame(np.nan, columns=pd.MultiIndex.from_product([[hmm_name], model_output.index]), index=df_xs_estimates.index))\n",
    "\n",
    "        df_xs_estimates.loc[(iDate,name),(moment_name,moment_vector.index)] = moment_vector.values\n",
    "        df_xs_estimates.loc[(iDate,name),(hmm_name,model_output.index)] = model_output.values\n",
    "        \n",
    "    count += 1\n",
    "    print(name, ':', list(industries_monthly.columns).index(name)+1, '/', len(industries_monthly.columns), ',', correction_count, 'corrections, ', switch_count,'switches')\n",
    "    \n",
    "    df_xs_estimates.to_pickle('df_xs_estimates_monthly_VOLA.pkl')"
   ]
  },
  {
   "cell_type": "markdown",
   "metadata": {},
   "source": [
    "### Rolling Window\n",
    "#### Names"
   ]
  },
  {
   "cell_type": "code",
   "execution_count": 22,
   "metadata": {},
   "outputs": [],
   "source": [
    "win_yrs = 40"
   ]
  },
  {
   "cell_type": "code",
   "execution_count": 23,
   "metadata": {},
   "outputs": [],
   "source": [
    "hmm_name = 'HMM_roll_'+str(win_yrs)\n",
    "moment_name = 'moment_roll_'+str(win_yrs)"
   ]
  },
  {
   "cell_type": "code",
   "execution_count": 24,
   "metadata": {},
   "outputs": [],
   "source": [
    "algos = ['powell','ncg','bfgs','cg','newton']"
   ]
  },
  {
   "cell_type": "markdown",
   "metadata": {},
   "source": [
    "#### Run"
   ]
  },
  {
   "cell_type": "code",
   "execution_count": 25,
   "metadata": {},
   "outputs": [],
   "source": [
    "df_xs_estimates = pd.read_pickle('df_xs_estimates_monthly_VOLA.pkl')"
   ]
  },
  {
   "cell_type": "code",
   "execution_count": 26,
   "metadata": {},
   "outputs": [
    {
     "name": "stderr",
     "output_type": "stream",
     "text": [
      "100%|████████████████████████████████████████████████████████████████████████████████| 419/419 [01:46<00:00,  3.92it/s]\n"
     ]
    },
    {
     "name": "stdout",
     "output_type": "stream",
     "text": [
      "Agric : 1 / 49 , 0 corrections,  0 switches\n"
     ]
    },
    {
     "name": "stderr",
     "output_type": "stream",
     "text": [
      "100%|████████████████████████████████████████████████████████████████████████████████| 419/419 [01:46<00:00,  3.43it/s]\n"
     ]
    },
    {
     "name": "stdout",
     "output_type": "stream",
     "text": [
      "Food  : 2 / 49 , 0 corrections,  0 switches\n"
     ]
    },
    {
     "name": "stderr",
     "output_type": "stream",
     "text": [
      "100%|████████████████████████████████████████████████████████████████████████████████| 197/197 [00:47<00:00,  4.36it/s]\n"
     ]
    },
    {
     "name": "stdout",
     "output_type": "stream",
     "text": [
      "Soda  : 3 / 49 , 0 corrections,  0 switches\n"
     ]
    },
    {
     "name": "stderr",
     "output_type": "stream",
     "text": [
      "100%|████████████████████████████████████████████████████████████████████████████████| 419/419 [01:33<00:00,  4.63it/s]\n"
     ]
    },
    {
     "name": "stdout",
     "output_type": "stream",
     "text": [
      "Beer  : 4 / 49 , 10 corrections,  0 switches\n"
     ]
    },
    {
     "name": "stderr",
     "output_type": "stream",
     "text": [
      "100%|████████████████████████████████████████████████████████████████████████████████| 419/419 [01:36<00:00,  4.67it/s]\n"
     ]
    },
    {
     "name": "stdout",
     "output_type": "stream",
     "text": [
      "Smoke : 5 / 49 , 0 corrections,  0 switches\n"
     ]
    },
    {
     "name": "stderr",
     "output_type": "stream",
     "text": [
      "100%|████████████████████████████████████████████████████████████████████████████████| 419/419 [01:52<00:00,  4.66it/s]\n"
     ]
    },
    {
     "name": "stdout",
     "output_type": "stream",
     "text": [
      "Toys  : 6 / 49 , 118 corrections,  0 switches\n"
     ]
    },
    {
     "name": "stderr",
     "output_type": "stream",
     "text": [
      "100%|████████████████████████████████████████████████████████████████████████████████| 419/419 [01:36<00:00,  4.50it/s]\n"
     ]
    },
    {
     "name": "stdout",
     "output_type": "stream",
     "text": [
      "Fun   : 7 / 49 , 13 corrections,  0 switches\n"
     ]
    },
    {
     "name": "stderr",
     "output_type": "stream",
     "text": [
      "100%|████████████████████████████████████████████████████████████████████████████████| 419/419 [01:40<00:00,  4.42it/s]\n"
     ]
    },
    {
     "name": "stdout",
     "output_type": "stream",
     "text": [
      "Books : 8 / 49 , 223 corrections,  0 switches\n"
     ]
    },
    {
     "name": "stderr",
     "output_type": "stream",
     "text": [
      "100%|████████████████████████████████████████████████████████████████████████████████| 419/419 [01:35<00:00,  4.78it/s]\n"
     ]
    },
    {
     "name": "stdout",
     "output_type": "stream",
     "text": [
      "Hshld : 9 / 49 , 36 corrections,  0 switches\n"
     ]
    },
    {
     "name": "stderr",
     "output_type": "stream",
     "text": [
      "100%|████████████████████████████████████████████████████████████████████████████████| 419/419 [01:37<00:00,  4.93it/s]\n"
     ]
    },
    {
     "name": "stdout",
     "output_type": "stream",
     "text": [
      "Clths : 10 / 49 , 96 corrections,  0 switches\n"
     ]
    },
    {
     "name": "stderr",
     "output_type": "stream",
     "text": [
      "100%|████████████████████████████████████████████████████████████████████████████████| 125/125 [00:30<00:00,  4.72it/s]\n"
     ]
    },
    {
     "name": "stdout",
     "output_type": "stream",
     "text": [
      "Hlth  : 11 / 49 , 11 corrections,  0 switches\n"
     ]
    },
    {
     "name": "stderr",
     "output_type": "stream",
     "text": [
      "100%|████████████████████████████████████████████████████████████████████████████████| 419/419 [01:47<00:00,  4.31it/s]\n"
     ]
    },
    {
     "name": "stdout",
     "output_type": "stream",
     "text": [
      "MedEq : 12 / 49 , 152 corrections,  0 switches\n"
     ]
    },
    {
     "name": "stderr",
     "output_type": "stream",
     "text": [
      "100%|████████████████████████████████████████████████████████████████████████████████| 419/419 [01:35<00:00,  4.66it/s]\n"
     ]
    },
    {
     "name": "stdout",
     "output_type": "stream",
     "text": [
      "Drugs : 13 / 49 , 13 corrections,  0 switches\n"
     ]
    },
    {
     "name": "stderr",
     "output_type": "stream",
     "text": [
      "100%|█████████████████████████████████████████████████████████████████████████████| 419/419 [14:48:51<00:00,  1.94it/s]\n"
     ]
    },
    {
     "name": "stdout",
     "output_type": "stream",
     "text": [
      "Chems : 14 / 49 , 37 corrections,  0 switches\n"
     ]
    },
    {
     "name": "stderr",
     "output_type": "stream",
     "text": [
      "100%|████████████████████████████████████████████████████████████████████████████████| 419/419 [02:29<00:00,  4.19it/s]\n"
     ]
    },
    {
     "name": "stdout",
     "output_type": "stream",
     "text": [
      "Rubbr : 15 / 49 , 3 corrections,  0 switches\n"
     ]
    },
    {
     "name": "stderr",
     "output_type": "stream",
     "text": [
      "100%|████████████████████████████████████████████████████████████████████████████████| 419/419 [01:51<00:00,  3.94it/s]\n"
     ]
    },
    {
     "name": "stdout",
     "output_type": "stream",
     "text": [
      "Txtls : 16 / 49 , 2 corrections,  0 switches\n"
     ]
    },
    {
     "name": "stderr",
     "output_type": "stream",
     "text": [
      "100%|████████████████████████████████████████████████████████████████████████████████| 419/419 [02:03<00:00,  3.92it/s]\n"
     ]
    },
    {
     "name": "stdout",
     "output_type": "stream",
     "text": [
      "BldMt : 17 / 49 , 40 corrections,  0 switches\n"
     ]
    },
    {
     "name": "stderr",
     "output_type": "stream",
     "text": [
      "100%|████████████████████████████████████████████████████████████████████████████████| 419/419 [01:51<00:00,  3.11it/s]\n"
     ]
    },
    {
     "name": "stdout",
     "output_type": "stream",
     "text": [
      "Cnstr : 18 / 49 , 88 corrections,  0 switches\n"
     ]
    },
    {
     "name": "stderr",
     "output_type": "stream",
     "text": [
      "100%|████████████████████████████████████████████████████████████████████████████████| 419/419 [02:37<00:00,  2.94it/s]\n"
     ]
    },
    {
     "name": "stdout",
     "output_type": "stream",
     "text": [
      "Steel : 19 / 49 , 151 corrections,  0 switches\n"
     ]
    },
    {
     "name": "stderr",
     "output_type": "stream",
     "text": [
      "100%|████████████████████████████████████████████████████████████████████████████████| 197/197 [00:53<00:00,  3.94it/s]\n"
     ]
    },
    {
     "name": "stdout",
     "output_type": "stream",
     "text": [
      "FabPr : 20 / 49 , 0 corrections,  0 switches\n"
     ]
    },
    {
     "name": "stderr",
     "output_type": "stream",
     "text": [
      "100%|████████████████████████████████████████████████████████████████████████████████| 419/419 [02:10<00:00,  3.77it/s]\n"
     ]
    },
    {
     "name": "stdout",
     "output_type": "stream",
     "text": [
      "Mach  : 21 / 49 , 96 corrections,  0 switches\n"
     ]
    },
    {
     "name": "stderr",
     "output_type": "stream",
     "text": [
      "100%|████████████████████████████████████████████████████████████████████████████████| 419/419 [01:53<00:00,  3.96it/s]\n"
     ]
    },
    {
     "name": "stdout",
     "output_type": "stream",
     "text": [
      "ElcEq : 22 / 49 , 46 corrections,  0 switches\n"
     ]
    },
    {
     "name": "stderr",
     "output_type": "stream",
     "text": [
      "100%|████████████████████████████████████████████████████████████████████████████████| 419/419 [01:47<00:00,  4.47it/s]\n"
     ]
    },
    {
     "name": "stdout",
     "output_type": "stream",
     "text": [
      "Autos : 23 / 49 , 0 corrections,  0 switches\n"
     ]
    },
    {
     "name": "stderr",
     "output_type": "stream",
     "text": [
      "100%|████████████████████████████████████████████████████████████████████████████████| 419/419 [01:49<00:00,  4.61it/s]\n"
     ]
    },
    {
     "name": "stdout",
     "output_type": "stream",
     "text": [
      "Aero  : 24 / 49 , 6 corrections,  0 switches\n"
     ]
    },
    {
     "name": "stderr",
     "output_type": "stream",
     "text": [
      "100%|████████████████████████████████████████████████████████████████████████████████| 419/419 [01:38<00:00,  4.22it/s]\n"
     ]
    },
    {
     "name": "stdout",
     "output_type": "stream",
     "text": [
      "Ships : 25 / 49 , 0 corrections,  0 switches\n"
     ]
    },
    {
     "name": "stderr",
     "output_type": "stream",
     "text": [
      "100%|████████████████████████████████████████████████████████████████████████████████| 197/197 [00:47<00:00,  3.98it/s]\n"
     ]
    },
    {
     "name": "stdout",
     "output_type": "stream",
     "text": [
      "Guns  : 26 / 49 , 54 corrections,  0 switches\n"
     ]
    },
    {
     "name": "stderr",
     "output_type": "stream",
     "text": [
      "100%|████████████████████████████████████████████████████████████████████████████████| 197/197 [00:49<00:00,  4.95it/s]\n"
     ]
    },
    {
     "name": "stdout",
     "output_type": "stream",
     "text": [
      "Gold  : 27 / 49 , 0 corrections,  0 switches\n"
     ]
    },
    {
     "name": "stderr",
     "output_type": "stream",
     "text": [
      "100%|████████████████████████████████████████████████████████████████████████████████| 419/419 [01:49<00:00,  4.09it/s]\n"
     ]
    },
    {
     "name": "stdout",
     "output_type": "stream",
     "text": [
      "Mines : 28 / 49 , 49 corrections,  0 switches\n"
     ]
    },
    {
     "name": "stderr",
     "output_type": "stream",
     "text": [
      "100%|████████████████████████████████████████████████████████████████████████████████| 419/419 [02:00<00:00,  3.35it/s]\n"
     ]
    },
    {
     "name": "stdout",
     "output_type": "stream",
     "text": [
      "Coal  : 29 / 49 , 210 corrections,  0 switches\n"
     ]
    },
    {
     "name": "stderr",
     "output_type": "stream",
     "text": [
      "100%|████████████████████████████████████████████████████████████████████████████████| 419/419 [01:37<00:00,  4.39it/s]\n"
     ]
    },
    {
     "name": "stdout",
     "output_type": "stream",
     "text": [
      "Oil   : 30 / 49 , 0 corrections,  0 switches\n"
     ]
    },
    {
     "name": "stderr",
     "output_type": "stream",
     "text": [
      "100%|████████████████████████████████████████████████████████████████████████████████| 419/419 [01:47<00:00,  4.89it/s]\n"
     ]
    },
    {
     "name": "stdout",
     "output_type": "stream",
     "text": [
      "Util  : 31 / 49 , 0 corrections,  0 switches\n"
     ]
    },
    {
     "name": "stderr",
     "output_type": "stream",
     "text": [
      "100%|████████████████████████████████████████████████████████████████████████████████| 419/419 [01:33<00:00,  5.03it/s]\n"
     ]
    },
    {
     "name": "stdout",
     "output_type": "stream",
     "text": [
      "Telcm : 32 / 49 , 13 corrections,  0 switches\n"
     ]
    },
    {
     "name": "stderr",
     "output_type": "stream",
     "text": [
      "100%|████████████████████████████████████████████████████████████████████████████████| 419/419 [01:39<00:00,  4.90it/s]\n"
     ]
    },
    {
     "name": "stdout",
     "output_type": "stream",
     "text": [
      "PerSv : 33 / 49 , 11 corrections,  0 switches\n"
     ]
    },
    {
     "name": "stderr",
     "output_type": "stream",
     "text": [
      "100%|████████████████████████████████████████████████████████████████████████████████| 419/419 [01:56<00:00,  4.46it/s]\n"
     ]
    },
    {
     "name": "stdout",
     "output_type": "stream",
     "text": [
      "BusSv : 34 / 49 , 233 corrections,  0 switches\n"
     ]
    },
    {
     "name": "stderr",
     "output_type": "stream",
     "text": [
      "100%|████████████████████████████████████████████████████████████████████████████████| 419/419 [01:46<00:00,  4.30it/s]\n"
     ]
    },
    {
     "name": "stdout",
     "output_type": "stream",
     "text": [
      "Hardw : 35 / 49 , 137 corrections,  0 switches\n"
     ]
    },
    {
     "name": "stderr",
     "output_type": "stream",
     "text": [
      "100%|████████████████████████████████████████████████████████████████████████████████| 173/173 [00:44<00:00,  3.43it/s]\n"
     ]
    },
    {
     "name": "stdout",
     "output_type": "stream",
     "text": [
      "Softw : 36 / 49 , 0 corrections,  0 switches\n"
     ]
    },
    {
     "name": "stderr",
     "output_type": "stream",
     "text": [
      "100%|████████████████████████████████████████████████████████████████████████████████| 419/419 [01:44<00:00,  3.02it/s]\n"
     ]
    },
    {
     "name": "stdout",
     "output_type": "stream",
     "text": [
      "Chips : 37 / 49 , 56 corrections,  0 switches\n"
     ]
    },
    {
     "name": "stderr",
     "output_type": "stream",
     "text": [
      "100%|████████████████████████████████████████████████████████████████████████████████| 419/419 [01:44<00:00,  4.65it/s]\n"
     ]
    },
    {
     "name": "stdout",
     "output_type": "stream",
     "text": [
      "LabEq : 38 / 49 , 75 corrections,  0 switches\n"
     ]
    },
    {
     "name": "stderr",
     "output_type": "stream",
     "text": [
      "100%|████████████████████████████████████████████████████████████████████████████████| 419/419 [01:51<00:00,  4.21it/s]\n"
     ]
    },
    {
     "name": "stdout",
     "output_type": "stream",
     "text": [
      "Paper : 39 / 49 , 248 corrections,  0 switches\n"
     ]
    },
    {
     "name": "stderr",
     "output_type": "stream",
     "text": [
      "100%|████████████████████████████████████████████████████████████████████████████████| 419/419 [01:42<00:00,  3.89it/s]\n"
     ]
    },
    {
     "name": "stdout",
     "output_type": "stream",
     "text": [
      "Boxes : 40 / 49 , 16 corrections,  0 switches\n"
     ]
    },
    {
     "name": "stderr",
     "output_type": "stream",
     "text": [
      "100%|████████████████████████████████████████████████████████████████████████████████| 419/419 [01:32<00:00,  4.76it/s]\n"
     ]
    },
    {
     "name": "stdout",
     "output_type": "stream",
     "text": [
      "Trans : 41 / 49 , 0 corrections,  0 switches\n"
     ]
    },
    {
     "name": "stderr",
     "output_type": "stream",
     "text": [
      "100%|████████████████████████████████████████████████████████████████████████████████| 419/419 [01:30<00:00,  4.57it/s]\n"
     ]
    },
    {
     "name": "stdout",
     "output_type": "stream",
     "text": [
      "Whlsl : 42 / 49 , 0 corrections,  0 switches\n"
     ]
    },
    {
     "name": "stderr",
     "output_type": "stream",
     "text": [
      "100%|████████████████████████████████████████████████████████████████████████████████| 419/419 [01:46<00:00,  3.47it/s]\n"
     ]
    },
    {
     "name": "stdout",
     "output_type": "stream",
     "text": [
      "Rtail : 43 / 49 , 108 corrections,  0 switches\n"
     ]
    },
    {
     "name": "stderr",
     "output_type": "stream",
     "text": [
      "100%|████████████████████████████████████████████████████████████████████████████████| 419/419 [01:46<00:00,  3.86it/s]\n"
     ]
    },
    {
     "name": "stdout",
     "output_type": "stream",
     "text": [
      "Meals : 44 / 49 , 0 corrections,  0 switches\n"
     ]
    },
    {
     "name": "stderr",
     "output_type": "stream",
     "text": [
      "100%|████████████████████████████████████████████████████████████████████████████████| 419/419 [01:36<00:00,  4.70it/s]\n"
     ]
    },
    {
     "name": "stdout",
     "output_type": "stream",
     "text": [
      "Banks : 45 / 49 , 0 corrections,  0 switches\n"
     ]
    },
    {
     "name": "stderr",
     "output_type": "stream",
     "text": [
      "100%|████████████████████████████████████████████████████████████████████████████████| 419/419 [01:47<00:00,  3.74it/s]\n"
     ]
    },
    {
     "name": "stdout",
     "output_type": "stream",
     "text": [
      "Insur : 46 / 49 , 0 corrections,  0 switches\n"
     ]
    },
    {
     "name": "stderr",
     "output_type": "stream",
     "text": [
      "100%|████████████████████████████████████████████████████████████████████████████████| 419/419 [01:57<00:00,  4.73it/s]\n"
     ]
    },
    {
     "name": "stdout",
     "output_type": "stream",
     "text": [
      "RlEst : 47 / 49 , 0 corrections,  0 switches\n"
     ]
    },
    {
     "name": "stderr",
     "output_type": "stream",
     "text": [
      "100%|████████████████████████████████████████████████████████████████████████████████| 419/419 [01:41<00:00,  4.56it/s]\n"
     ]
    },
    {
     "name": "stdout",
     "output_type": "stream",
     "text": [
      "Fin   : 48 / 49 , 0 corrections,  0 switches\n"
     ]
    },
    {
     "name": "stderr",
     "output_type": "stream",
     "text": [
      "100%|████████████████████████████████████████████████████████████████████████████████| 419/419 [01:50<00:00,  3.68it/s]\n"
     ]
    },
    {
     "name": "stdout",
     "output_type": "stream",
     "text": [
      "Other : 49 / 49 , 139 corrections,  0 switches\n",
      "Wall time: 16h 9min 12s\n"
     ]
    }
   ],
   "source": [
    "%%time\n",
    "count = start\n",
    "\n",
    "for name,data in industries_monthly.iloc[:,:].items():\n",
    "    \n",
    "    # find dates to optimise\n",
    "    data = data[data.notna()]\n",
    "    opt_dates = data.index[data.index>data.index[0].replace(year=data.index[0].year+win_yrs)]\n",
    "    \n",
    "    correction_count = 0\n",
    "    switch_count = 0\n",
    "    for iDate in tqdm.tqdm(opt_dates):\n",
    "        \n",
    "        # select data\n",
    "        select_window = data.index[(data.index>[iDate+dt.timedelta(1) if (iDate.day==29)&(iDate.month==2) else iDate][0].replace(year=iDate.year-win_yrs)) & (data.index<=iDate)]\n",
    "        y = data.loc[select_window].copy()\n",
    "        y = y - y.mean()\n",
    "        \n",
    "        # calculate sample moments\n",
    "        moment_vector = get_moment_vector(y)\n",
    "        \n",
    "        # treat outliers\n",
    "        y = calc.shrink_outliers(y, alpha=1.96, lamb=1) #1.645\n",
    "        \n",
    "        # set initial guesses for parameters\n",
    "        s = y.std()\n",
    "        win_init = [0.9,0.1] + [(2*s)**2] + [(0.5*s)**2]\n",
    "        \n",
    "        if iDate == opt_dates[0]:\n",
    "            init = win_init\n",
    "        else:\n",
    "            if  all(hmm_model.params.notna()):\n",
    "                init = hmm_model.params.values\n",
    "            else:\n",
    "                init = win_init\n",
    "            \n",
    "            # move initial transition probabilities to reasonable levels\n",
    "            if (min(init[0],1-init[0])<0.01) | (min(init[1],1-init[1])<0.01):\n",
    "                init = 0.9*init + 0.1*np.asarray(win_init)\n",
    "                correction_count += 1\n",
    "        \n",
    "        # estimate model\n",
    "        for algo in algos:\n",
    "            with warnings.catch_warnings():\n",
    "                warnings.filterwarnings(action=\"ignore\")\n",
    "                hmm_model = sm.tsa.MarkovRegression(y, k_regimes=2, exog=None, trend='nc', switching_trend=False, switching_exog=False, switching_variance=True, missing='drop')\\\n",
    "                    .fit(cov_type='robust', start_params=init, method=algo, disp=False, search_reps=0)\n",
    "            if all(hmm_model.params.notna()):\n",
    "                break\n",
    "                \n",
    "        if hmm_model.params[2] < hmm_model.params[3]:\n",
    "            switch_count += 1\n",
    "        \n",
    "        # outputs\n",
    "        model_output = get_hmm_model_output(hmm_model)\n",
    "        \n",
    "        # safe estimates\n",
    "        if (count == 0) & (iDate == opt_dates[0]) & True:\n",
    "            df_xs_estimates = df_xs_estimates\\\n",
    "                .join(pd.DataFrame(np.nan, columns=pd.MultiIndex.from_product([[moment_name], moment_vector.index]), index=df_xs_estimates.index))\\\n",
    "                .join(pd.DataFrame(np.nan, columns=pd.MultiIndex.from_product([[hmm_name], model_output.index]), index=df_xs_estimates.index))\n",
    "\n",
    "        df_xs_estimates.loc[(iDate,name),(moment_name,moment_vector.index)] = moment_vector.values\n",
    "        df_xs_estimates.loc[(iDate,name),(hmm_name,model_output.index)] = model_output.values\n",
    "        \n",
    "    count += 1\n",
    "    print(name, ':', list(industries_monthly.columns).index(name)+1, '/', len(industries_monthly.columns), ',', correction_count, 'corrections, ', switch_count,'switches')\n",
    "    \n",
    "    df_xs_estimates.to_pickle('df_xs_estimates_monthly_VOLA.pkl')"
   ]
  },
  {
   "cell_type": "code",
   "execution_count": 32,
   "metadata": {},
   "outputs": [],
   "source": [
    "df_xs_estimates.to_pickle('df_xs_estimates_monthly.pkl')"
   ]
  },
  {
   "cell_type": "markdown",
   "metadata": {},
   "source": [
    "### Diagnostics"
   ]
  },
  {
   "cell_type": "code",
   "execution_count": 92,
   "metadata": {},
   "outputs": [],
   "source": [
    "hmm_name = 'hmm_full'\n",
    "hmm_name = 'HMM_expand'\n",
    "hmm_name = 'HMM_roll_40'"
   ]
  },
  {
   "cell_type": "code",
   "execution_count": 93,
   "metadata": {},
   "outputs": [
    {
     "name": "stdout",
     "output_type": "stream",
     "text": [
      "38 Paper\n"
     ]
    }
   ],
   "source": [
    "iI=38\n",
    "industry=industries_monthly.columns[iI]\n",
    "print(iI,industry)"
   ]
  },
  {
   "cell_type": "code",
   "execution_count": 81,
   "metadata": {},
   "outputs": [
    {
     "data": {
      "text/plain": [
       "HMM_expand  p00   2.9405\n",
       "            p10   6.3367\n",
       "dtype: float64"
      ]
     },
     "execution_count": 81,
     "metadata": {},
     "output_type": "execute_result"
    }
   ],
   "source": [
    "p=df_xs_estimates.loc[df_xs_estimates.index.get_level_values('Industry')==industry,(hmm_name,model_output.index)][[(hmm_name,'p00'),(hmm_name,'p10')]].mean()\n",
    "p[0] = 1-p[0]\n",
    "1/(1-p)/12"
   ]
  },
  {
   "cell_type": "code",
   "execution_count": 82,
   "metadata": {},
   "outputs": [
    {
     "data": {
      "text/plain": [
       "HMM_expand  p00   0.9717\n",
       "            p10   0.9868\n",
       "dtype: float64"
      ]
     },
     "execution_count": 82,
     "metadata": {},
     "output_type": "execute_result"
    }
   ],
   "source": [
    "p"
   ]
  },
  {
   "cell_type": "code",
   "execution_count": 83,
   "metadata": {},
   "outputs": [
    {
     "data": {
      "image/png": "[encoded data removed]",
      "text/plain": [
       "<Figure size 1224x864 with 4 Axes>"
      ]
     },
     "metadata": {
      "needs_background": "light"
     },
     "output_type": "display_data"
    }
   ],
   "source": [
    "fix,axes = plt.subplots(4,1,figsize=[17,12])\n",
    "\n",
    "#ax = axes[0]\n",
    "#plot.add_recession_bars(ax, startdate=df_xs_estimates.index.get_level_values('Date')[df_xs_estimates.index.get_level_values('Industry')==industry][240])\n",
    "#d = df_xs_estimates.loc[df_xs_estimates.index.get_level_values('Industry')==industry,(hmm_name,model_output.index)][[(hmm_name,'mu_0'),(hmm_name,'mu_1')]]\n",
    "#d.index = d.index.get_level_values('Date')\n",
    "#ax.plot(d)\n",
    "\n",
    "ax = axes[1]\n",
    "plot.add_recession_bars(ax, startdate=df_xs_estimates.index.get_level_values('Date')[df_xs_estimates.index.get_level_values('Industry')==industry][240])\n",
    "d = df_xs_estimates.loc[df_xs_estimates.index.get_level_values('Industry')==industry,(hmm_name,model_output.index)][[(hmm_name,'sigma2_0'),(hmm_name,'sigma2_1')]]\n",
    "d.index = d.index.get_level_values('Date')\n",
    "ax.plot(d)\n",
    "\n",
    "ax = axes[2]\n",
    "plot.add_recession_bars(ax, startdate=df_xs_estimates.index.get_level_values('Date')[df_xs_estimates.index.get_level_values('Industry')==industry][240])\n",
    "d = df_xs_estimates.loc[df_xs_estimates.index.get_level_values('Industry')==industry,(hmm_name,model_output.index)][[(hmm_name,'p00'),(hmm_name,'p10')]]\n",
    "d.index = d.index.get_level_values('Date')\n",
    "ax.plot(d)\n",
    "\n",
    "ax = axes[3]\n",
    "plot.add_recession_bars(ax, startdate=df_xs_estimates.index.get_level_values('Date')[df_xs_estimates.index.get_level_values('Industry')==industry][240])\n",
    "s = df_xs_estimates.loc[df_xs_estimates.index.get_level_values('Industry')==industry,(hmm_name,model_output.index)][[(hmm_name,'filt_prob_1')]]\n",
    "s.index = s.index.get_level_values('Date')\n",
    "ax.plot(s)\n",
    "\n",
    "plt.show()"
   ]
  },
  {
   "cell_type": "code",
   "execution_count": 99,
   "metadata": {},
   "outputs": [
    {
     "data": {
      "text/plain": [
       "HMM_roll_40  p00   2.9146\n",
       "             p10   7.4420\n",
       "dtype: float64"
      ]
     },
     "execution_count": 99,
     "metadata": {},
     "output_type": "execute_result"
    }
   ],
   "source": [
    "p=df_xs_estimates.loc[df_xs_estimates.index.get_level_values('Industry')==industry,(hmm_name,model_output.index)][[(hmm_name,'p00'),(hmm_name,'p10')]].mean()\n",
    "p[0] = 1-p[0]\n",
    "1/(1-p)/12"
   ]
  },
  {
   "cell_type": "code",
   "execution_count": 100,
   "metadata": {},
   "outputs": [
    {
     "data": {
      "text/plain": [
       "HMM_roll_40  p00   0.9714\n",
       "             p10   0.9888\n",
       "dtype: float64"
      ]
     },
     "execution_count": 100,
     "metadata": {},
     "output_type": "execute_result"
    }
   ],
   "source": [
    "p"
   ]
  },
  {
   "cell_type": "code",
   "execution_count": 101,
   "metadata": {},
   "outputs": [
    {
     "data": {
      "image/png": "[encoded data removed]",
      "text/plain": [
       "<Figure size 1224x864 with 4 Axes>"
      ]
     },
     "metadata": {
      "needs_background": "light"
     },
     "output_type": "display_data"
    }
   ],
   "source": [
    "fix,axes = plt.subplots(4,1,figsize=[17,12])\n",
    "\n",
    "#ax = axes[0]\n",
    "#plot.add_recession_bars(ax, startdate=df_xs_estimates.index.get_level_values('Date')[df_xs_estimates.index.get_level_values('Industry')==industry][240])\n",
    "#d = df_xs_estimates.loc[df_xs_estimates.index.get_level_values('Industry')==industry,(hmm_name,model_output.index)][[(hmm_name,'mu_0'),(hmm_name,'mu_1')]]\n",
    "#d.index = d.index.get_level_values('Date')\n",
    "#ax.plot(d)\n",
    "\n",
    "ax = axes[1]\n",
    "plot.add_recession_bars(ax, startdate=df_xs_estimates.index.get_level_values('Date')[df_xs_estimates.index.get_level_values('Industry')==industry][240])\n",
    "d = df_xs_estimates.loc[df_xs_estimates.index.get_level_values('Industry')==industry,(hmm_name,model_output.index)][[(hmm_name,'sigma2_0'),(hmm_name,'sigma2_1')]]\n",
    "d.index = d.index.get_level_values('Date')\n",
    "ax.plot(d)\n",
    "\n",
    "ax = axes[2]\n",
    "plot.add_recession_bars(ax, startdate=df_xs_estimates.index.get_level_values('Date')[df_xs_estimates.index.get_level_values('Industry')==industry][240])\n",
    "d = df_xs_estimates.loc[df_xs_estimates.index.get_level_values('Industry')==industry,(hmm_name,model_output.index)][[(hmm_name,'p00'),(hmm_name,'p10')]]\n",
    "d.index = d.index.get_level_values('Date')\n",
    "ax.plot(d)\n",
    "\n",
    "ax = axes[3]\n",
    "plot.add_recession_bars(ax, startdate=df_xs_estimates.index.get_level_values('Date')[df_xs_estimates.index.get_level_values('Industry')==industry][240])\n",
    "s = df_xs_estimates.loc[df_xs_estimates.index.get_level_values('Industry')==industry,(hmm_name,model_output.index)][[(hmm_name,'filt_prob_1')]]\n",
    "s.index = s.index.get_level_values('Date')\n",
    "ax.plot(s)\n",
    "\n",
    "plt.show()"
   ]
  },
  {
   "cell_type": "code",
   "execution_count": null,
   "metadata": {},
   "outputs": [],
   "source": []
  }
 ],
 "metadata": {
  "kernelspec": {
   "display_name": "Python 3",
   "language": "python",
   "name": "python3"
  },
  "language_info": {
   "codemirror_mode": {
    "name": "ipython",
    "version": 3
   },
   "file_extension": ".py",
   "mimetype": "text/x-python",
   "name": "python",
   "nbconvert_exporter": "python",
   "pygments_lexer": "ipython3",
   "version": "3.7.0"
  }
 },
 "nbformat": 4,
 "nbformat_minor": 2
}
