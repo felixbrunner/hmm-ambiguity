{
 "cells": [
  {
   "cell_type": "markdown",
   "metadata": {},
   "source": [
    "# Data Preparation"
   ]
  },
  {
   "cell_type": "markdown",
   "metadata": {},
   "source": [
    "## Imports"
   ]
  },
  {
   "cell_type": "code",
   "execution_count": 3,
   "metadata": {
    "pycharm": {
     "is_executing": false
    }
   },
   "outputs": [
    {
     "name": "stdout",
     "text": [
      "The autoreload extension is already loaded. To reload it, use:\n",
      "  %reload_ext autoreload\n"
     ],
     "output_type": "stream"
    }
   ],
   "source": [
    "%load_ext autoreload\n",
    "%autoreload 2"
   ]
  },
  {
   "cell_type": "code",
   "execution_count": 4,
   "metadata": {
    "pycharm": {
     "is_executing": false
    }
   },
   "outputs": [],
   "source": [
    "import numpy as np\n",
    "import scipy as sp\n",
    "import pandas as pd\n",
    "\n",
    "import warnings\n",
    "import tqdm\n",
    "\n",
    "import pandas_datareader.data as web\n",
    "import datetime as dt\n",
    "\n",
    "import statsmodels.api as sm\n",
    "import linearmodels as lm\n",
    "import arch as am\n",
    "\n",
    "import matplotlib.pyplot as plt\n",
    "import seaborn as sns\n",
    "\n",
    "import mypack.data as data\n",
    "import mypack.calc as calc\n",
    "import mypack.plot as plot\n",
    "import mypack.clas as clas"
   ]
  },
  {
   "cell_type": "code",
   "execution_count": 5,
   "metadata": {
    "pycharm": {
     "is_executing": false
    }
   },
   "outputs": [],
   "source": [
    "pd.set_option('display.float_format', lambda x: '%.4f' % x) #sets decimals to be displayed"
   ]
  },
  {
   "cell_type": "code",
   "execution_count": 6,
   "metadata": {
    "pycharm": {
     "is_executing": false
    }
   },
   "outputs": [],
   "source": [
    "sns.set()\n",
    "sns.set(rc={'figure.figsize': (17, 6)})"
   ]
  },
  {
   "cell_type": "code",
   "execution_count": 7,
   "metadata": {
    "pycharm": {
     "is_executing": false
    }
   },
   "outputs": [],
   "source": [
    "%matplotlib inline"
   ]
  },
  {
   "cell_type": "markdown",
   "metadata": {},
   "source": [
    "## Data"
   ]
  },
  {
   "cell_type": "markdown",
   "metadata": {},
   "source": [
    "Data is imported from [Kenneth French's data library](http://mba.tuck.dartmouth.edu/pages/faculty/ken.french/data_library.html) and [FRED](https://fred.stlouisfed.org/series/). Currently, this workbook uses 49 industry portfolios and the FF3 factors. Additionally, NBER recession indicators complement the data."
   ]
  },
  {
   "cell_type": "code",
   "execution_count": 8,
   "metadata": {
    "pycharm": {
     "is_executing": false
    }
   },
   "outputs": [],
   "source": [
    "#sample_start = dt.datetime(1962,1,1)\n",
    "#sample_start = dt.datetime(1945,1,1)\n",
    "sample_start = dt.datetime(1900,1,1)\n",
    "sample_end = dt.datetime(2019,12,31)\n",
    "#sample_end = dt.datetime.today()"
   ]
  },
  {
   "cell_type": "markdown",
   "metadata": {},
   "source": [
    "### Factor data"
   ]
  },
  {
   "cell_type": "code",
   "execution_count": 7,
   "metadata": {},
   "outputs": [],
   "source": [
    "factors_daily = data.download_factor_data('D')/100\n",
    "factors_monthly = data.download_factor_data('M')/100\n",
    "\n",
    "factors_daily = factors_daily.loc[(factors_daily.index >= sample_start) & (factors_daily.index <= sample_end)]\n",
    "factors_monthly = factors_monthly.loc[(factors_monthly.index >= sample_start) & (factors_monthly.index <= sample_end)]"
   ]
  },
  {
   "cell_type": "markdown",
   "metadata": {},
   "source": [
    "### Market Data"
   ]
  },
  {
   "cell_type": "code",
   "execution_count": 8,
   "metadata": {},
   "outputs": [],
   "source": [
    "market_daily = factors_daily['Mkt-RF']\n",
    "market_monthly = factors_monthly['Mkt-RF']"
   ]
  },
  {
   "cell_type": "markdown",
   "metadata": {},
   "source": [
    "### Industry data"
   ]
  },
  {
   "cell_type": "code",
   "execution_count": 9,
   "metadata": {},
   "outputs": [],
   "source": [
    "industries_daily = data.download_industry_data('D', excessreturns=True)/100\n",
    "industries_monthly = data.download_industry_data('M', excessreturns=True)/100"
   ]
  },
  {
   "cell_type": "code",
   "execution_count": 10,
   "metadata": {},
   "outputs": [],
   "source": [
    "industries_daily = industries_daily.loc[(industries_daily.index >= sample_start) & (industries_daily.index <= sample_end)]\n",
    "industries_monthly = industries_monthly.loc[(industries_monthly.index >= sample_start) & (industries_monthly.index <= sample_end)]"
   ]
  },
  {
   "cell_type": "markdown",
   "metadata": {},
   "source": [
    "## Export Data Files"
   ]
  },
  {
   "cell_type": "code",
   "execution_count": 11,
   "metadata": {},
   "outputs": [],
   "source": [
    "market_daily.to_pickle('s_market_daily.pkl')\n",
    "market_monthly.to_pickle('s_market_monthly.pkl')"
   ]
  },
  {
   "cell_type": "code",
   "execution_count": 11,
   "metadata": {},
   "outputs": [],
   "source": [
    "industries_daily.to_pickle('df_industries_daily.pkl')\n",
    "industries_monthly.to_pickle('df_industries_monthly.pkl')"
   ]
  },
  {
   "cell_type": "code",
   "execution_count": 13,
   "metadata": {},
   "outputs": [
    {
     "name": "stdout",
     "output_type": "stream",
     "text": [
      "Variable             Type         Data/Info\n",
      "-------------------------------------------\n",
      "am                   module       <module 'arch' from 'C:\\\\<...>ages\\\\arch\\\\__init__.py'>\n",
      "calc                 module       <module 'mypack.calc' fro<...>n Code\\\\mypack\\\\calc.py'>\n",
      "clas                 module       <module 'mypack.clas' fro<...>n Code\\\\mypack\\\\clas.py'>\n",
      "data                 module       <module 'mypack.data' fro<...>n Code\\\\mypack\\\\data.py'>\n",
      "dt                   module       <module 'datetime' from '<...>onda3\\\\lib\\\\datetime.py'>\n",
      "factors_daily        DataFrame                Mkt-RF     SM<...>n[19115 rows x 5 columns]\n",
      "factors_monthly      DataFrame                Mkt-RF     SM<...>n\\n[900 rows x 4 columns]\n",
      "industries_daily     DataFrame    Industry     Agric   Food<...>[19115 rows x 49 columns]\n",
      "industries_monthly   DataFrame    Industry     Agric   Food<...>\\n[900 rows x 49 columns]\n",
      "lm                   module       <module 'linearmodels' fr<...>nearmodels\\\\__init__.py'>\n",
      "market_daily         Series       Date\\n1945-01-02    0.002<...>th: 19115, dtype: float64\n",
      "market_monthly       Series       Date\\n1945-01-31    0.020<...>ngth: 900, dtype: float64\n",
      "np                   module       <module 'numpy' from 'C:\\<...>ges\\\\numpy\\\\__init__.py'>\n",
      "pd                   module       <module 'pandas' from 'C:<...>es\\\\pandas\\\\__init__.py'>\n",
      "plot                 module       <module 'mypack.plot' fro<...>n Code\\\\mypack\\\\plot.py'>\n",
      "plt                  module       <module 'matplotlib.pyplo<...>\\\\matplotlib\\\\pyplot.py'>\n",
      "sample_end           datetime     2019-12-31 00:00:00\n",
      "sample_start         datetime     1945-01-01 00:00:00\n",
      "sm                   module       <module 'statsmodels.api'<...>es\\\\statsmodels\\\\api.py'>\n",
      "sns                  module       <module 'seaborn' from 'C<...>s\\\\seaborn\\\\__init__.py'>\n",
      "sp                   module       <module 'scipy' from 'C:\\<...>ges\\\\scipy\\\\__init__.py'>\n",
      "tqdm                 module       <module 'tqdm' from 'C:\\\\<...>ages\\\\tqdm\\\\__init__.py'>\n",
      "warnings             module       <module 'warnings' from '<...>onda3\\\\lib\\\\warnings.py'>\n",
      "web                  module       <module 'pandas_datareade<...>das_datareader\\\\data.py'>\n"
     ]
    }
   ],
   "source": [
    "%whos"
   ]
  },
  {
   "cell_type": "code",
   "execution_count": null,
   "metadata": {},
   "outputs": [],
   "source": []
  }
 ],
 "metadata": {
  "kernelspec": {
   "display_name": "Python 3",
   "language": "python",
   "name": "python3"
  },
  "language_info": {
   "codemirror_mode": {
    "name": "ipython",
    "version": 3
   },
   "file_extension": ".py",
   "mimetype": "text/x-python",
   "name": "python",
   "nbconvert_exporter": "python",
   "pygments_lexer": "ipython3",
   "version": "3.7.0"
  }
 },
 "nbformat": 4,
 "nbformat_minor": 2
}